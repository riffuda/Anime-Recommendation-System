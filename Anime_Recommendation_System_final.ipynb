{
  "cells": [
    {
      "cell_type": "markdown",
      "id": "rm3GjKMOskd9",
      "metadata": {
        "id": "rm3GjKMOskd9"
      },
      "source": [
        "# Proyek Akhir: Membuat Model Sistem Rekomendasi Anime\n",
        "\n",
        "- **Nama:** Rifda Qurrotul 'Ain\n",
        "\n",
        "- **Email:** rifda.q.a@gmail.com\n",
        "\n",
        "- **ID Dicoding:** MC123D5X2017"
      ]
    },
    {
      "cell_type": "markdown",
      "id": "We4cr1vJskeC",
      "metadata": {
        "id": "We4cr1vJskeC"
      },
      "source": [
        "## Project Overview\n",
        "\n",
        "Industri anime telah berkembang pesat dan menghasilkan ribuan judul dengan berbagai genre, tipe, dan gaya cerita. Hal ini memberikan penonton beragam pilihan, namun juga menghadirkan tantangan dalam menemukan anime yang sesuai dengan preferensi individu. Sistem rekomendasi menjadi solusi penting untuk membantu pengguna menavigasi katalog yang luas ini dan menemukan anime yang sesuai dengan selera mereka.\n",
        "\n",
        "Proyek ini bertujuan untuk membangun sistem rekomendasi anime berbasis data menggunakan dua pendekatan utama: Content-Based Filtering dan Collaborative Filtering. Dengan memanfaatkan dataset dari MyAnimeList (Anime.csv dan Rating.csv), sistem ini akan menganalisis karakteristik anime (seperti genre, tipe, dan rating) serta pola penilaian pengguna untuk memberikan rekomendasi yang relevan dan dipersonalisasi.\n",
        "\n",
        "Diharapkan sistem ini dapat membantu pengguna menemukan anime baru yang menarik dan meningkatkan pengalaman menonton mereka secara keseluruhan.\n"
      ]
    },
    {
      "cell_type": "markdown",
      "id": "ymqw3IlKskeF",
      "metadata": {
        "id": "ymqw3IlKskeF"
      },
      "source": [
        "## Business Understanding\n",
        "\n",
        "### Problem Statements\n",
        "\n",
        "* Bagaimana cara membantu pengguna menemukan anime yang relevan dari katalog besar berdasarkan preferensi historis dan karakteristik anime?\n",
        "\n",
        "* Bagaimana cara memberikan rekomendasi anime yang dipersonalisasi kepada pengguna secara efektif?\n",
        "\n",
        "### Goals\n",
        "\n",
        "* Mengembangkan sistem rekomendasi anime menggunakan pendekatan *Content-Based Filtering*.\n",
        "\n",
        "* Mengembangkan sistem rekomendasi anime menggunakan pendekatan *Collaborative Filtering*.\n",
        "\n",
        "* Menyediakan daftar top-N rekomendasi anime kepada pengguna.\n",
        "\n"
      ]
    },
    {
      "cell_type": "markdown",
      "id": "2J40fb2OskeG",
      "metadata": {
        "id": "2J40fb2OskeG"
      },
      "source": [
        "## Data Understanding\n",
        "\n",
        "Dataset yang digunakan berasal dari Kaggle: **CooperUnion – Anime Recommendations Database**, yang berisi informasi preferensi dari **73.516 pengguna** terhadap **12.294 anime** (https://www.kaggle.com/datasets/CooperUnion/anime-recommendations-database).\n",
        "\n",
        "File yang akan digunakan:\n",
        "\n",
        "* **`anime.csv`**:\n",
        "\n",
        "  * `anime_id` – ID unik dari MyAnimeList\n",
        "  * `name` – Judul lengkap anime\n",
        "  * `genre` – Daftar genre, dipisahkan koma\n",
        "  * `type` – Tipe anime (misalnya TV, Movie, OVA)\n",
        "  * `episodes` – Jumlah episode (1 jika film pendek)\n",
        "  * `rating` – Rata-rata rating (dari 0–10)\n",
        "  * `members` – Jumlah anggota yang mencantumkan anime ini di daftar mereka\n",
        "\n",
        "* **`rating.csv`**:\n",
        "\n",
        "  * `user_id` – ID pengguna yang diacak, tidak bisa diidentifikasi\n",
        "  * `anime_id` – ID anime yang dinilai\n",
        "  * `rating` – Skor rating (0–10); nilai `-1` menunjukkan bahwa pengguna telah menonton namun tidak meninggalkan rating"
      ]
    },
    {
      "cell_type": "markdown",
      "id": "N53ZbJWYskeH",
      "metadata": {
        "id": "N53ZbJWYskeH"
      },
      "source": [
        "# Import libraries"
      ]
    },
    {
      "cell_type": "code",
      "execution_count": 28,
      "id": "4e8a37a5",
      "metadata": {
        "id": "4e8a37a5"
      },
      "outputs": [],
      "source": [
        "import pandas as pd\n",
        "import numpy as np\n",
        "import matplotlib.pyplot as plt\n",
        "import seaborn as sns\n",
        "from sklearn.feature_extraction.text import TfidfVectorizer\n",
        "from sklearn.metrics.pairwise import cosine_similarity\n",
        "from surprise import Reader, Dataset, SVD\n",
        "from surprise.model_selection import cross_validate, train_test_split\n",
        "from surprise import accuracy\n",
        "import zipfile\n",
        "import os\n"
      ]
    },
    {
      "cell_type": "markdown",
      "id": "3333991b",
      "metadata": {
        "id": "3333991b"
      },
      "source": [
        "### Memuat Data\n"
      ]
    },
    {
      "cell_type": "code",
      "execution_count": 45,
      "id": "ace5a1c7",
      "metadata": {
        "id": "ace5a1c7"
      },
      "outputs": [],
      "source": [
        "# Load dataset\n",
        "anime_df = pd.read_csv('anime.csv')\n",
        "rating_df = pd.read_csv(\"rating.csv\", sep=\";\")"
      ]
    },
    {
      "cell_type": "markdown",
      "id": "b9eecd03",
      "metadata": {
        "id": "b9eecd03"
      },
      "source": [
        "### Data Preprocessing"
      ]
    },
    {
      "cell_type": "code",
      "execution_count": 46,
      "id": "510ab0f6",
      "metadata": {
        "id": "510ab0f6",
        "colab": {
          "base_uri": "https://localhost:8080/"
        },
        "outputId": "1d23be76-77e2-4a95-f1e7-03e43f981da2"
      },
      "outputs": [
        {
          "output_type": "stream",
          "name": "stdout",
          "text": [
            "Informasi Dataset Anime:\n",
            "<class 'pandas.core.frame.DataFrame'>\n",
            "RangeIndex: 12294 entries, 0 to 12293\n",
            "Data columns (total 7 columns):\n",
            " #   Column    Non-Null Count  Dtype  \n",
            "---  ------    --------------  -----  \n",
            " 0   anime_id  12294 non-null  int64  \n",
            " 1   name      12294 non-null  object \n",
            " 2   genre     12232 non-null  object \n",
            " 3   type      12269 non-null  object \n",
            " 4   episodes  12294 non-null  object \n",
            " 5   rating    12064 non-null  float64\n",
            " 6   members   12294 non-null  int64  \n",
            "dtypes: float64(1), int64(2), object(4)\n",
            "memory usage: 672.5+ KB\n",
            "\n",
            "Informasi Dataset Rating:\n",
            "<class 'pandas.core.frame.DataFrame'>\n",
            "RangeIndex: 877802 entries, 0 to 877801\n",
            "Data columns (total 3 columns):\n",
            " #   Column    Non-Null Count   Dtype\n",
            "---  ------    --------------   -----\n",
            " 0   user_id   877802 non-null  int64\n",
            " 1   anime_id  877802 non-null  int64\n",
            " 2   rating    877802 non-null  int64\n",
            "dtypes: int64(3)\n",
            "memory usage: 20.1 MB\n"
          ]
        }
      ],
      "source": [
        "print('Informasi Dataset Anime:')\n",
        "anime_df.info()\n",
        "\n",
        "print('\\nInformasi Dataset Rating:')\n",
        "rating_df.info()"
      ]
    },
    {
      "cell_type": "markdown",
      "id": "dWgj9f6J9oWf",
      "metadata": {
        "id": "dWgj9f6J9oWf"
      },
      "source": [
        "**Insight Dataset Anime**\n",
        "\n",
        "* Jumlah data: 12.294 anime\n",
        "* Kolom genre: 12232 non-null (62 missing)\n",
        "* Kolom type: 12269 non-null (25 missing)\n",
        "* Kolom rating: 12064 non-null (230 missing)\n",
        "* Kolom episodes dan members lengkap\n",
        "* Genre dan type memiliki missing value, rating memiliki \\~1.8% missing\n",
        "\n",
        "**Insight Dataset Rating**\n",
        "\n",
        "* Jumlah data: 877.802 rating\n",
        "* Semua kolom lengkap, tidak ada missing\n",
        "* Rating berupa integer, termasuk -1 (perlu dihapus saat model training)\n",
        "* Data bersifat sparse, banyak user hanya memberi rating ke sebagian kecil anime\n"
      ]
    },
    {
      "cell_type": "code",
      "execution_count": 47,
      "id": "9d0a7fa7",
      "metadata": {
        "id": "9d0a7fa7",
        "colab": {
          "base_uri": "https://localhost:8080/"
        },
        "outputId": "d6e472ff-12ab-4a98-f825-7c6a73a48fcd"
      },
      "outputs": [
        {
          "output_type": "stream",
          "name": "stdout",
          "text": [
            "Jumlah User Unik: 7580\n",
            "Jumlah Anime Unik: 7773\n",
            "\n",
            "Jumlah genre unik: 43\n",
            "\n",
            "Genre paling umum:\n",
            "Comedy       4645\n",
            "Action       2845\n",
            "Adventure    2348\n",
            "Fantasy      2309\n",
            "Sci-Fi       2070\n",
            "Name: count, dtype: int64\n"
          ]
        }
      ],
      "source": [
        "# Menghapus rating -1\n",
        "rating_df_cleaned = rating_df[rating_df['rating'] != -1].copy()\n",
        "\n",
        "# Menggabungkan data\n",
        "df = pd.merge(rating_df_cleaned, anime_df[['anime_id', 'name']], on='anime_id', how='left')\n",
        "\n",
        "# Encoding user_id dan anime_id\n",
        "# Membuat pemetaan (mapping) dari ID ke integer\n",
        "user_ids = df['user_id'].unique().tolist()\n",
        "user_to_user_encoded = {x: i for i, x in enumerate(user_ids)}\n",
        "user_encoded_to_user = {i: x for i, x in enumerate(user_ids)}\n",
        "df['user_encoded'] = df['user_id'].map(user_to_user_encoded)\n",
        "\n",
        "anime_ids = df['anime_id'].unique().tolist()\n",
        "anime_to_anime_encoded = {x: i for i, x in enumerate(anime_ids)}\n",
        "anime_encoded_to_anime = {i: x for i, x in enumerate(anime_ids)}\n",
        "df['anime_encoded'] = df['anime_id'].map(anime_to_anime_encoded)\n",
        "\n",
        "# Mendapatkan jumlah user dan anime unik\n",
        "num_users = len(user_to_user_encoded)\n",
        "num_anime = len(anime_to_anime_encoded)\n",
        "print(f'Jumlah User Unik: {num_users}')\n",
        "print(f'Jumlah Anime Unik: {num_anime}')\n",
        "\n",
        "# Mengubah tipe data rating menjadi float32\n",
        "df['rating'] = df['rating'].values.astype(np.float32)\n",
        "\n",
        "all_genres = [genre.strip()\n",
        "              for sublist in anime_df['genre'].dropna().str.split(',')\n",
        "              for genre in sublist]\n",
        "\n",
        "genre_counts = pd.Series(all_genres).value_counts()\n",
        "print(f\"\\nJumlah genre unik: {len(genre_counts)}\")\n",
        "print(f\"\\nGenre paling umum:\\n{genre_counts.head()}\")"
      ]
    },
    {
      "cell_type": "markdown",
      "id": "EI4QOyuZQxbh",
      "metadata": {
        "id": "EI4QOyuZQxbh"
      },
      "source": [
        "**Insight Hasil Output:**\n",
        "Dataset terdiri dari 7580 pengguna unik dan 7773 anime unik yang memiliki rating.\n",
        "Terdapat 43 genre unik dengan distribusi genre yang cukup beragam, di mana genre paling umum adalah Comedy, Action, Adventure, Fantasy, dan Sci-Fi.\n",
        "Ini menunjukkan bahwa model rekomendasi memiliki ruang yang luas untuk mempelajari preferensi pengguna berdasarkan kombinasi genre dan rating."
      ]
    },
    {
      "cell_type": "markdown",
      "id": "E6uA-8lrP0xx",
      "metadata": {
        "id": "E6uA-8lrP0xx"
      },
      "source": [
        "## EDA Visualisasi Distribusi"
      ]
    },
    {
      "cell_type": "markdown",
      "id": "BXkG-shNVSBv",
      "metadata": {
        "id": "BXkG-shNVSBv"
      },
      "source": [
        "Anime Type"
      ]
    },
    {
      "cell_type": "code",
      "execution_count": 48,
      "id": "a9eh4tU8Ug6q",
      "metadata": {
        "id": "a9eh4tU8Ug6q",
        "colab": {
          "base_uri": "https://localhost:8080/",
          "height": 755
        },
        "outputId": "6187286e-dea6-4541-f1dc-5624202f5983"
      },
      "outputs": [
        {
          "output_type": "stream",
          "name": "stdout",
          "text": [
            "type\n",
            "TV         3787\n",
            "OVA        3311\n",
            "Movie      2348\n",
            "Special    1676\n",
            "ONA         659\n",
            "Music       488\n",
            "Name: count, dtype: int64\n"
          ]
        },
        {
          "output_type": "display_data",
          "data": {
            "text/plain": [
              "<Figure size 1000x500 with 1 Axes>"
            ],
            "image/png": "[encoded data removed]"
          },
          "metadata": {}
        },
        {
          "output_type": "stream",
          "name": "stdout",
          "text": [
            "Statistik Deskriptif 'type':\n",
            "count     12269\n",
            "unique        6\n",
            "top          TV\n",
            "freq       3787\n",
            "Name: type, dtype: object\n",
            "\n",
            "\n"
          ]
        }
      ],
      "source": [
        "anime_df['type'].value_counts()\n",
        "print(anime_df['type'].value_counts())\n",
        "\n",
        "plt.figure(figsize=(10, 5))\n",
        "sns.countplot(y='type', data=anime_df, order = anime_df['type'].value_counts().index)\n",
        "plt.title('Distribusi Tipe Anime')\n",
        "plt.show()\n",
        "\n",
        "# Statistik deskriptif type\n",
        "print(\"Statistik Deskriptif 'type':\")\n",
        "print(anime_df['type'].describe())\n",
        "print(\"\\n\")\n"
      ]
    },
    {
      "cell_type": "markdown",
      "id": "IecEb8RcV1C-",
      "metadata": {
        "id": "IecEb8RcV1C-"
      },
      "source": [
        "**Insight:**\n",
        "\n",
        "* Tipe anime paling dominan adalah **TV series** → sesuai dengan karakteristik industri anime → banyak anime dirilis dalam bentuk serial TV.\n",
        "* Tipe lain yang cukup signifikan adalah **Movie, OVA, ONA, Music**.\n",
        "* Tipe dengan frekuensi rendah (Special, Unknown) bisa diabaikan/diperlakukan khusus saat modeling."
      ]
    },
    {
      "cell_type": "markdown",
      "id": "TrRB3XQTVmhG",
      "metadata": {
        "id": "TrRB3XQTVmhG"
      },
      "source": [
        "Rating"
      ]
    },
    {
      "cell_type": "code",
      "execution_count": 49,
      "id": "MX-QcUNbVg3Y",
      "metadata": {
        "id": "MX-QcUNbVg3Y",
        "colab": {
          "base_uri": "https://localhost:8080/",
          "height": 794
        },
        "outputId": "a353b562-4194-4370-e149-100d02760230"
      },
      "outputs": [
        {
          "output_type": "display_data",
          "data": {
            "text/plain": [
              "<Figure size 1000x500 with 1 Axes>"
            ],
            "image/png": "[encoded data removed]"
          },
          "metadata": {}
        },
        {
          "output_type": "execute_result",
          "data": {
            "text/plain": [
              "count    718768.000000\n",
              "mean          7.779176\n",
              "std           1.574441\n",
              "min           1.000000\n",
              "25%           7.000000\n",
              "50%           8.000000\n",
              "75%           9.000000\n",
              "max          10.000000\n",
              "Name: rating, dtype: float64"
            ],
            "text/html": [
              "<div>\n",
              "<style scoped>\n",
              "    .dataframe tbody tr th:only-of-type {\n",
              "        vertical-align: middle;\n",
              "    }\n",
              "\n",
              "    .dataframe tbody tr th {\n",
              "        vertical-align: top;\n",
              "    }\n",
              "\n",
              "    .dataframe thead th {\n",
              "        text-align: right;\n",
              "    }\n",
              "</style>\n",
              "<table border=\"1\" class=\"dataframe\">\n",
              "  <thead>\n",
              "    <tr style=\"text-align: right;\">\n",
              "      <th></th>\n",
              "      <th>rating</th>\n",
              "    </tr>\n",
              "  </thead>\n",
              "  <tbody>\n",
              "    <tr>\n",
              "      <th>count</th>\n",
              "      <td>718768.000000</td>\n",
              "    </tr>\n",
              "    <tr>\n",
              "      <th>mean</th>\n",
              "      <td>7.779176</td>\n",
              "    </tr>\n",
              "    <tr>\n",
              "      <th>std</th>\n",
              "      <td>1.574441</td>\n",
              "    </tr>\n",
              "    <tr>\n",
              "      <th>min</th>\n",
              "      <td>1.000000</td>\n",
              "    </tr>\n",
              "    <tr>\n",
              "      <th>25%</th>\n",
              "      <td>7.000000</td>\n",
              "    </tr>\n",
              "    <tr>\n",
              "      <th>50%</th>\n",
              "      <td>8.000000</td>\n",
              "    </tr>\n",
              "    <tr>\n",
              "      <th>75%</th>\n",
              "      <td>9.000000</td>\n",
              "    </tr>\n",
              "    <tr>\n",
              "      <th>max</th>\n",
              "      <td>10.000000</td>\n",
              "    </tr>\n",
              "  </tbody>\n",
              "</table>\n",
              "</div><br><label><b>dtype:</b> float64</label>"
            ]
          },
          "metadata": {},
          "execution_count": 49
        }
      ],
      "source": [
        "plt.figure(figsize=(10, 5))\n",
        "sns.histplot(rating_df[rating_df['rating'] != -1]['rating'], bins=10, kde=False)\n",
        "plt.title('Distribusi Rating Pengguna (1-10)')\n",
        "plt.show()\n",
        "\n",
        "rating_df[rating_df['rating'] != -1]['rating'].describe()\n"
      ]
    },
    {
      "cell_type": "markdown",
      "id": "WQkPk3PUV-Br",
      "metadata": {
        "id": "WQkPk3PUV-Br"
      },
      "source": [
        "**Insight:**\n",
        "\n",
        "* Mayoritas user memberikan rating tinggi → rating **7-10** sangat dominan.\n",
        "* Distribusi rating menunjukkan bias → user cenderung hanya memberikan rating jika mereka **menyukai** anime tersebut.\n",
        "* **Median rating kemungkinan besar >7** → artinya sistem rekomendasi akan sering menghadapi data yang *positif skewed*."
      ]
    },
    {
      "cell_type": "markdown",
      "id": "H9IwfqOkVpnY",
      "metadata": {
        "id": "H9IwfqOkVpnY"
      },
      "source": [
        "genre"
      ]
    },
    {
      "cell_type": "code",
      "execution_count": 50,
      "id": "hzyiHNbRVGiS",
      "metadata": {
        "id": "hzyiHNbRVGiS",
        "colab": {
          "base_uri": "https://localhost:8080/",
          "height": 940
        },
        "outputId": "32ee49dd-7750-473c-be0f-1216c63ae100"
      },
      "outputs": [
        {
          "output_type": "stream",
          "name": "stderr",
          "text": [
            "<ipython-input-50-49a369aa2bf2>:2: FutureWarning: \n",
            "\n",
            "Passing `palette` without assigning `hue` is deprecated and will be removed in v0.14.0. Assign the `y` variable to `hue` and set `legend=False` for the same effect.\n",
            "\n",
            "  sns.barplot(x=genre_counts.values, y=genre_counts.index, palette='mako')\n"
          ]
        },
        {
          "output_type": "display_data",
          "data": {
            "text/plain": [
              "<Figure size 1200x700 with 1 Axes>"
            ],
            "image/png": "[encoded data removed]"
          },
          "metadata": {}
        },
        {
          "output_type": "execute_result",
          "data": {
            "text/plain": [
              "count      43.000000\n",
              "mean      843.837209\n",
              "std       939.848086\n",
              "min        39.000000\n",
              "25%       213.000000\n",
              "50%       495.000000\n",
              "75%      1180.500000\n",
              "max      4645.000000\n",
              "Name: count, dtype: float64"
            ],
            "text/html": [
              "<div>\n",
              "<style scoped>\n",
              "    .dataframe tbody tr th:only-of-type {\n",
              "        vertical-align: middle;\n",
              "    }\n",
              "\n",
              "    .dataframe tbody tr th {\n",
              "        vertical-align: top;\n",
              "    }\n",
              "\n",
              "    .dataframe thead th {\n",
              "        text-align: right;\n",
              "    }\n",
              "</style>\n",
              "<table border=\"1\" class=\"dataframe\">\n",
              "  <thead>\n",
              "    <tr style=\"text-align: right;\">\n",
              "      <th></th>\n",
              "      <th>count</th>\n",
              "    </tr>\n",
              "  </thead>\n",
              "  <tbody>\n",
              "    <tr>\n",
              "      <th>count</th>\n",
              "      <td>43.000000</td>\n",
              "    </tr>\n",
              "    <tr>\n",
              "      <th>mean</th>\n",
              "      <td>843.837209</td>\n",
              "    </tr>\n",
              "    <tr>\n",
              "      <th>std</th>\n",
              "      <td>939.848086</td>\n",
              "    </tr>\n",
              "    <tr>\n",
              "      <th>min</th>\n",
              "      <td>39.000000</td>\n",
              "    </tr>\n",
              "    <tr>\n",
              "      <th>25%</th>\n",
              "      <td>213.000000</td>\n",
              "    </tr>\n",
              "    <tr>\n",
              "      <th>50%</th>\n",
              "      <td>495.000000</td>\n",
              "    </tr>\n",
              "    <tr>\n",
              "      <th>75%</th>\n",
              "      <td>1180.500000</td>\n",
              "    </tr>\n",
              "    <tr>\n",
              "      <th>max</th>\n",
              "      <td>4645.000000</td>\n",
              "    </tr>\n",
              "  </tbody>\n",
              "</table>\n",
              "</div><br><label><b>dtype:</b> float64</label>"
            ]
          },
          "metadata": {},
          "execution_count": 50
        }
      ],
      "source": [
        "plt.figure(figsize=(12, 7))\n",
        "sns.barplot(x=genre_counts.values, y=genre_counts.index, palette='mako')\n",
        "plt.title('Distribusi Genre Film')\n",
        "plt.xlabel('Jumlah Film')\n",
        "plt.ylabel('Genre')\n",
        "plt.show()\n",
        "\n",
        "genre_counts.describe()\n"
      ]
    },
    {
      "cell_type": "markdown",
      "id": "z3Lx2dthWFw6",
      "metadata": {
        "id": "z3Lx2dthWFw6"
      },
      "source": [
        "**Insight:**\n",
        "\n",
        "* Genre **Comedy, Action, Adventure, Fantasy, Sci-Fi** paling banyak muncul → populer di kalangan penonton.\n",
        "* Ada genre niche dengan jumlah anime sedikit → bisa membantu model mengenali preferensi user khusus.\n",
        "* Skewness genre → model Content-Based Filtering harus memperhatikan genre imbalance ini (agar tidak terlalu sering merekomendasikan genre populer saja)."
      ]
    },
    {
      "cell_type": "markdown",
      "id": "v_fehBYF_t7c",
      "metadata": {
        "id": "v_fehBYF_t7c"
      },
      "source": [
        "## Handle Missing Value dan dulikat"
      ]
    },
    {
      "cell_type": "code",
      "execution_count": 51,
      "id": "2be392a3",
      "metadata": {
        "id": "2be392a3",
        "colab": {
          "base_uri": "https://localhost:8080/"
        },
        "outputId": "87a3ed2c-805b-4dae-8d62-785cb4ae9714"
      },
      "outputs": [
        {
          "output_type": "stream",
          "name": "stdout",
          "text": [
            "Missing values di anime_df:\n",
            "anime_id      0\n",
            "name          0\n",
            "genre        62\n",
            "type         25\n",
            "episodes      0\n",
            "rating      230\n",
            "members       0\n",
            "dtype: int64\n",
            "\n",
            "Missing values di rating_df:\n",
            "user_id     0\n",
            "anime_id    0\n",
            "rating      0\n",
            "dtype: int64\n"
          ]
        }
      ],
      "source": [
        "print('Missing values di anime_df:')\n",
        "print(anime_df.isnull().sum())\n",
        "\n",
        "print('\\nMissing values di rating_df:')\n",
        "print(rating_df.isnull().sum())"
      ]
    },
    {
      "cell_type": "markdown",
      "id": "s5du-ED3Wj87",
      "metadata": {
        "id": "s5du-ED3Wj87"
      },
      "source": [
        "**Insight & Penjelasan**\n",
        "\n",
        "* Dataset `anime_df` mengandung beberapa missing value:\n",
        "\n",
        "  * **genre** → 62 missing → kemungkinan untuk anime yang genre-nya belum terdata → bisa diisi dengan `'Unknown'` agar tidak mengganggu modeling.\n",
        "  * **type** → 25 missing → kemungkinan metadata belum lengkap → juga bisa diisi `'Unknown'`.\n",
        "  * **rating** → 230 missing → ini adalah rating dari MyAnimeList, bukan user rating → bisa diisi dengan **mean** atau median rating anime.\n",
        "\n",
        "* Kolom lain tidak memiliki missing → **siap dipakai**.\n",
        "\n",
        "* Dataset `rating_df` **tidak mengandung missing value** → artinya user rating data bersih → langsung dapat digunakan untuk Collaborative Filtering."
      ]
    },
    {
      "cell_type": "code",
      "execution_count": 52,
      "id": "abbe52ae",
      "metadata": {
        "id": "abbe52ae",
        "colab": {
          "base_uri": "https://localhost:8080/"
        },
        "outputId": "9451fa3b-eae0-49dd-e3ae-fc9604428382"
      },
      "outputs": [
        {
          "output_type": "stream",
          "name": "stdout",
          "text": [
            "Jumlah missing values di genre setelah dibersihkan: 0\n"
          ]
        }
      ],
      "source": [
        "# Hapus baris dengan genre yang kosong\n",
        "anime_df.dropna(subset=['genre', 'rating', 'type'], inplace=True)\n",
        "print('Jumlah missing values di genre setelah dibersihkan:', anime_df['genre'].isnull().sum())"
      ]
    },
    {
      "cell_type": "code",
      "execution_count": 53,
      "id": "76029cf5",
      "metadata": {
        "id": "76029cf5",
        "colab": {
          "base_uri": "https://localhost:8080/"
        },
        "outputId": "4b1155b9-12eb-4cff-a0b2-28deaeb695f4"
      },
      "outputs": [
        {
          "output_type": "stream",
          "name": "stdout",
          "text": [
            "Jumlah anime unik: 12017\n",
            "Jumlah baris total: 12017\n"
          ]
        }
      ],
      "source": [
        "# Cek duplikat berdasarkan anime_id\n",
        "print('Jumlah anime unik:', anime_df['anime_id'].nunique())\n",
        "print('Jumlah baris total:', len(anime_df))\n",
        "\n",
        "# Kita akan menggunakan data anime yang unik\n",
        "anime_df.drop_duplicates(subset='anime_id', keep='first', inplace=True)"
      ]
    },
    {
      "cell_type": "markdown",
      "id": "40KivPeFWr1S",
      "metadata": {
        "id": "40KivPeFWr1S"
      },
      "source": [
        "insight: Data sudah tidak ada yang duplikat"
      ]
    },
    {
      "cell_type": "markdown",
      "id": "AN2-tNSCYz9r",
      "metadata": {
        "id": "AN2-tNSCYz9r"
      },
      "source": [
        "TF-IDF"
      ]
    },
    {
      "cell_type": "code",
      "execution_count": 54,
      "id": "8hYfLwNXYmv8",
      "metadata": {
        "id": "8hYfLwNXYmv8",
        "colab": {
          "base_uri": "https://localhost:8080/"
        },
        "outputId": "e0d8e2e1-0b4d-427a-9291-a1c3e85ca7d6"
      },
      "outputs": [
        {
          "output_type": "stream",
          "name": "stdout",
          "text": [
            "Shape of TF-IDF Matrix: (12017, 47)\n",
            "\n",
            "Contoh fitur (genre) yang diekstrak oleh TF-IDF:\n",
            "['action', 'adventure', 'ai', 'arts', 'cars', 'comedy', 'dementia', 'demons', 'drama', 'ecchi', 'fantasy', 'fi', 'game', 'harem', 'hentai', 'historical', 'horror', 'josei', 'kids', 'life']\n"
          ]
        }
      ],
      "source": [
        "tfidf_vectorizer = TfidfVectorizer()\n",
        "tfidf_matrix = tfidf_vectorizer.fit_transform(anime_df['genre'])\n",
        "\n",
        "print(\"Shape of TF-IDF Matrix:\", tfidf_matrix.shape)\n",
        "print(\"\\nContoh fitur (genre) yang diekstrak oleh TF-IDF:\")\n",
        "print(list(tfidf_vectorizer.get_feature_names_out())[:20])"
      ]
    },
    {
      "cell_type": "markdown",
      "id": "d_GLSiOBYM4P",
      "metadata": {
        "id": "d_GLSiOBYM4P"
      },
      "source": [
        "# Insight\n",
        "**TF-IDF Matrix**\n",
        "Shape: **(12017, 47)**\n",
        "Artinya, ada **12017 anime** yang memiliki genre, dan **47 genre unik** yang berhasil diekstrak sebagai fitur.\n",
        "Setiap anime kini direpresentasikan sebagai **vektor 47 dimensi**, sesuai genre yang ada di anime tersebut.\n",
        "\n",
        "**Contoh fitur (genre):**\n",
        "\\['action', 'adventure', 'ai', 'arts', ..., 'life']\n",
        "→ Ini adalah genre yang dipertimbangkan model untuk menghitung kemiripan antar anime.\n"
      ]
    },
    {
      "cell_type": "markdown",
      "id": "DM5YbcglR-el",
      "metadata": {
        "id": "DM5YbcglR-el"
      },
      "source": [
        "## Modeling: Content-Based Filtering\n",
        "\n",
        "Pendekatan pertama adalah Content-Based Filtering. Kita akan merekomendasikan anime berdasarkan kesamaan genre."
      ]
    },
    {
      "cell_type": "markdown",
      "id": "NQE2YMyaZAPq",
      "metadata": {
        "id": "NQE2YMyaZAPq"
      },
      "source": [
        "Cosine Similarity"
      ]
    },
    {
      "cell_type": "code",
      "execution_count": 55,
      "id": "NFZLwBSMYsxK",
      "metadata": {
        "id": "NFZLwBSMYsxK",
        "colab": {
          "base_uri": "https://localhost:8080/"
        },
        "outputId": "8d9fc9ba-4ac4-406a-fb90-424e7f60aaab"
      },
      "outputs": [
        {
          "output_type": "stream",
          "name": "stdout",
          "text": [
            "Shape of Cosine Similarity Matrix: (12017, 12017)\n",
            "\n",
            "Contoh matriks kesamaan (5x5):\n",
            "[[1.         0.14715318 0.         0.         0.        ]\n",
            " [0.14715318 1.         0.17877808 0.         0.17877808]\n",
            " [0.         0.17877808 1.         0.22085481 1.        ]\n",
            " [0.         0.         0.22085481 1.         0.22085481]\n",
            " [0.         0.17877808 1.         0.22085481 1.        ]]\n"
          ]
        }
      ],
      "source": [
        "cosine_sim_matrix = cosine_similarity(tfidf_matrix, tfidf_matrix)\n",
        "\n",
        "print(\"Shape of Cosine Similarity Matrix:\", cosine_sim_matrix.shape)\n",
        "print(\"\\nContoh matriks kesamaan (5x5):\")\n",
        "print(cosine_sim_matrix[:5, :5])"
      ]
    },
    {
      "cell_type": "code",
      "execution_count": 56,
      "id": "PHan9XfyssJE",
      "metadata": {
        "id": "PHan9XfyssJE",
        "colab": {
          "base_uri": "https://localhost:8080/",
          "height": 324
        },
        "outputId": "f00ddd20-f3e3-4291-ed3f-1dd3e6ede638"
      },
      "outputs": [
        {
          "output_type": "stream",
          "name": "stdout",
          "text": [
            "Shape of Cosine Similarity Matrix: (12017, 12017)\n",
            "\n",
            "Contoh matriks kesamaan (5x5):\n"
          ]
        },
        {
          "output_type": "execute_result",
          "data": {
            "text/plain": [
              "name                              Kimi no Na wa.  \\\n",
              "name                                               \n",
              "Kimi no Na wa.                          1.000000   \n",
              "Fullmetal Alchemist: Brotherhood        0.147153   \n",
              "Gintama°                                0.000000   \n",
              "Steins;Gate                             0.000000   \n",
              "Gintama&#039;                           0.000000   \n",
              "\n",
              "name                              Fullmetal Alchemist: Brotherhood  Gintama°  \\\n",
              "name                                                                           \n",
              "Kimi no Na wa.                                            0.147153  0.000000   \n",
              "Fullmetal Alchemist: Brotherhood                          1.000000  0.178778   \n",
              "Gintama°                                                  0.178778  1.000000   \n",
              "Steins;Gate                                               0.000000  0.220855   \n",
              "Gintama&#039;                                             0.178778  1.000000   \n",
              "\n",
              "name                              Steins;Gate  Gintama&#039;  \n",
              "name                                                          \n",
              "Kimi no Na wa.                       0.000000       0.000000  \n",
              "Fullmetal Alchemist: Brotherhood     0.000000       0.178778  \n",
              "Gintama°                             0.220855       1.000000  \n",
              "Steins;Gate                          1.000000       0.220855  \n",
              "Gintama&#039;                        0.220855       1.000000  "
            ],
            "text/html": [
              "\n",
              "  <div id=\"df-66517ded-2fe0-4176-9b55-bedfa3b15c9e\" class=\"colab-df-container\">\n",
              "    <div>\n",
              "<style scoped>\n",
              "    .dataframe tbody tr th:only-of-type {\n",
              "        vertical-align: middle;\n",
              "    }\n",
              "\n",
              "    .dataframe tbody tr th {\n",
              "        vertical-align: top;\n",
              "    }\n",
              "\n",
              "    .dataframe thead th {\n",
              "        text-align: right;\n",
              "    }\n",
              "</style>\n",
              "<table border=\"1\" class=\"dataframe\">\n",
              "  <thead>\n",
              "    <tr style=\"text-align: right;\">\n",
              "      <th>name</th>\n",
              "      <th>Kimi no Na wa.</th>\n",
              "      <th>Fullmetal Alchemist: Brotherhood</th>\n",
              "      <th>Gintama°</th>\n",
              "      <th>Steins;Gate</th>\n",
              "      <th>Gintama&amp;#039;</th>\n",
              "    </tr>\n",
              "    <tr>\n",
              "      <th>name</th>\n",
              "      <th></th>\n",
              "      <th></th>\n",
              "      <th></th>\n",
              "      <th></th>\n",
              "      <th></th>\n",
              "    </tr>\n",
              "  </thead>\n",
              "  <tbody>\n",
              "    <tr>\n",
              "      <th>Kimi no Na wa.</th>\n",
              "      <td>1.000000</td>\n",
              "      <td>0.147153</td>\n",
              "      <td>0.000000</td>\n",
              "      <td>0.000000</td>\n",
              "      <td>0.000000</td>\n",
              "    </tr>\n",
              "    <tr>\n",
              "      <th>Fullmetal Alchemist: Brotherhood</th>\n",
              "      <td>0.147153</td>\n",
              "      <td>1.000000</td>\n",
              "      <td>0.178778</td>\n",
              "      <td>0.000000</td>\n",
              "      <td>0.178778</td>\n",
              "    </tr>\n",
              "    <tr>\n",
              "      <th>Gintama°</th>\n",
              "      <td>0.000000</td>\n",
              "      <td>0.178778</td>\n",
              "      <td>1.000000</td>\n",
              "      <td>0.220855</td>\n",
              "      <td>1.000000</td>\n",
              "    </tr>\n",
              "    <tr>\n",
              "      <th>Steins;Gate</th>\n",
              "      <td>0.000000</td>\n",
              "      <td>0.000000</td>\n",
              "      <td>0.220855</td>\n",
              "      <td>1.000000</td>\n",
              "      <td>0.220855</td>\n",
              "    </tr>\n",
              "    <tr>\n",
              "      <th>Gintama&amp;#039;</th>\n",
              "      <td>0.000000</td>\n",
              "      <td>0.178778</td>\n",
              "      <td>1.000000</td>\n",
              "      <td>0.220855</td>\n",
              "      <td>1.000000</td>\n",
              "    </tr>\n",
              "  </tbody>\n",
              "</table>\n",
              "</div>\n",
              "    <div class=\"colab-df-buttons\">\n",
              "\n",
              "  <div class=\"colab-df-container\">\n",
              "    <button class=\"colab-df-convert\" onclick=\"convertToInteractive('df-66517ded-2fe0-4176-9b55-bedfa3b15c9e')\"\n",
              "            title=\"Convert this dataframe to an interactive table.\"\n",
              "            style=\"display:none;\">\n",
              "\n",
              "  <svg xmlns=\"http://www.w3.org/2000/svg\" height=\"24px\" viewBox=\"0 -960 960 960\">\n",
              "    <path d=\"M120-120v-720h720v720H120Zm60-500h600v-160H180v160Zm220 220h160v-160H400v160Zm0 220h160v-160H400v160ZM180-400h160v-160H180v160Zm440 0h160v-160H620v160ZM180-180h160v-160H180v160Zm440 0h160v-160H620v160Z\"/>\n",
              "  </svg>\n",
              "    </button>\n",
              "\n",
              "  <style>\n",
              "    .colab-df-container {\n",
              "      display:flex;\n",
              "      gap: 12px;\n",
              "    }\n",
              "\n",
              "    .colab-df-convert {\n",
              "      background-color: #E8F0FE;\n",
              "      border: none;\n",
              "      border-radius: 50%;\n",
              "      cursor: pointer;\n",
              "      display: none;\n",
              "      fill: #1967D2;\n",
              "      height: 32px;\n",
              "      padding: 0 0 0 0;\n",
              "      width: 32px;\n",
              "    }\n",
              "\n",
              "    .colab-df-convert:hover {\n",
              "      background-color: #E2EBFA;\n",
              "      box-shadow: 0px 1px 2px rgba(60, 64, 67, 0.3), 0px 1px 3px 1px rgba(60, 64, 67, 0.15);\n",
              "      fill: #174EA6;\n",
              "    }\n",
              "\n",
              "    .colab-df-buttons div {\n",
              "      margin-bottom: 4px;\n",
              "    }\n",
              "\n",
              "    [theme=dark] .colab-df-convert {\n",
              "      background-color: #3B4455;\n",
              "      fill: #D2E3FC;\n",
              "    }\n",
              "\n",
              "    [theme=dark] .colab-df-convert:hover {\n",
              "      background-color: #434B5C;\n",
              "      box-shadow: 0px 1px 3px 1px rgba(0, 0, 0, 0.15);\n",
              "      filter: drop-shadow(0px 1px 2px rgba(0, 0, 0, 0.3));\n",
              "      fill: #FFFFFF;\n",
              "    }\n",
              "  </style>\n",
              "\n",
              "    <script>\n",
              "      const buttonEl =\n",
              "        document.querySelector('#df-66517ded-2fe0-4176-9b55-bedfa3b15c9e button.colab-df-convert');\n",
              "      buttonEl.style.display =\n",
              "        google.colab.kernel.accessAllowed ? 'block' : 'none';\n",
              "\n",
              "      async function convertToInteractive(key) {\n",
              "        const element = document.querySelector('#df-66517ded-2fe0-4176-9b55-bedfa3b15c9e');\n",
              "        const dataTable =\n",
              "          await google.colab.kernel.invokeFunction('convertToInteractive',\n",
              "                                                    [key], {});\n",
              "        if (!dataTable) return;\n",
              "\n",
              "        const docLinkHtml = 'Like what you see? Visit the ' +\n",
              "          '<a target=\"_blank\" href=https://colab.research.google.com/notebooks/data_table.ipynb>data table notebook</a>'\n",
              "          + ' to learn more about interactive tables.';\n",
              "        element.innerHTML = '';\n",
              "        dataTable['output_type'] = 'display_data';\n",
              "        await google.colab.output.renderOutput(dataTable, element);\n",
              "        const docLink = document.createElement('div');\n",
              "        docLink.innerHTML = docLinkHtml;\n",
              "        element.appendChild(docLink);\n",
              "      }\n",
              "    </script>\n",
              "  </div>\n",
              "\n",
              "\n",
              "    <div id=\"df-3fd5fdec-e745-4bf3-8c29-78cd4e37d070\">\n",
              "      <button class=\"colab-df-quickchart\" onclick=\"quickchart('df-3fd5fdec-e745-4bf3-8c29-78cd4e37d070')\"\n",
              "                title=\"Suggest charts\"\n",
              "                style=\"display:none;\">\n",
              "\n",
              "<svg xmlns=\"http://www.w3.org/2000/svg\" height=\"24px\"viewBox=\"0 0 24 24\"\n",
              "     width=\"24px\">\n",
              "    <g>\n",
              "        <path d=\"M19 3H5c-1.1 0-2 .9-2 2v14c0 1.1.9 2 2 2h14c1.1 0 2-.9 2-2V5c0-1.1-.9-2-2-2zM9 17H7v-7h2v7zm4 0h-2V7h2v10zm4 0h-2v-4h2v4z\"/>\n",
              "    </g>\n",
              "</svg>\n",
              "      </button>\n",
              "\n",
              "<style>\n",
              "  .colab-df-quickchart {\n",
              "      --bg-color: #E8F0FE;\n",
              "      --fill-color: #1967D2;\n",
              "      --hover-bg-color: #E2EBFA;\n",
              "      --hover-fill-color: #174EA6;\n",
              "      --disabled-fill-color: #AAA;\n",
              "      --disabled-bg-color: #DDD;\n",
              "  }\n",
              "\n",
              "  [theme=dark] .colab-df-quickchart {\n",
              "      --bg-color: #3B4455;\n",
              "      --fill-color: #D2E3FC;\n",
              "      --hover-bg-color: #434B5C;\n",
              "      --hover-fill-color: #FFFFFF;\n",
              "      --disabled-bg-color: #3B4455;\n",
              "      --disabled-fill-color: #666;\n",
              "  }\n",
              "\n",
              "  .colab-df-quickchart {\n",
              "    background-color: var(--bg-color);\n",
              "    border: none;\n",
              "    border-radius: 50%;\n",
              "    cursor: pointer;\n",
              "    display: none;\n",
              "    fill: var(--fill-color);\n",
              "    height: 32px;\n",
              "    padding: 0;\n",
              "    width: 32px;\n",
              "  }\n",
              "\n",
              "  .colab-df-quickchart:hover {\n",
              "    background-color: var(--hover-bg-color);\n",
              "    box-shadow: 0 1px 2px rgba(60, 64, 67, 0.3), 0 1px 3px 1px rgba(60, 64, 67, 0.15);\n",
              "    fill: var(--button-hover-fill-color);\n",
              "  }\n",
              "\n",
              "  .colab-df-quickchart-complete:disabled,\n",
              "  .colab-df-quickchart-complete:disabled:hover {\n",
              "    background-color: var(--disabled-bg-color);\n",
              "    fill: var(--disabled-fill-color);\n",
              "    box-shadow: none;\n",
              "  }\n",
              "\n",
              "  .colab-df-spinner {\n",
              "    border: 2px solid var(--fill-color);\n",
              "    border-color: transparent;\n",
              "    border-bottom-color: var(--fill-color);\n",
              "    animation:\n",
              "      spin 1s steps(1) infinite;\n",
              "  }\n",
              "\n",
              "  @keyframes spin {\n",
              "    0% {\n",
              "      border-color: transparent;\n",
              "      border-bottom-color: var(--fill-color);\n",
              "      border-left-color: var(--fill-color);\n",
              "    }\n",
              "    20% {\n",
              "      border-color: transparent;\n",
              "      border-left-color: var(--fill-color);\n",
              "      border-top-color: var(--fill-color);\n",
              "    }\n",
              "    30% {\n",
              "      border-color: transparent;\n",
              "      border-left-color: var(--fill-color);\n",
              "      border-top-color: var(--fill-color);\n",
              "      border-right-color: var(--fill-color);\n",
              "    }\n",
              "    40% {\n",
              "      border-color: transparent;\n",
              "      border-right-color: var(--fill-color);\n",
              "      border-top-color: var(--fill-color);\n",
              "    }\n",
              "    60% {\n",
              "      border-color: transparent;\n",
              "      border-right-color: var(--fill-color);\n",
              "    }\n",
              "    80% {\n",
              "      border-color: transparent;\n",
              "      border-right-color: var(--fill-color);\n",
              "      border-bottom-color: var(--fill-color);\n",
              "    }\n",
              "    90% {\n",
              "      border-color: transparent;\n",
              "      border-bottom-color: var(--fill-color);\n",
              "    }\n",
              "  }\n",
              "</style>\n",
              "\n",
              "      <script>\n",
              "        async function quickchart(key) {\n",
              "          const quickchartButtonEl =\n",
              "            document.querySelector('#' + key + ' button');\n",
              "          quickchartButtonEl.disabled = true;  // To prevent multiple clicks.\n",
              "          quickchartButtonEl.classList.add('colab-df-spinner');\n",
              "          try {\n",
              "            const charts = await google.colab.kernel.invokeFunction(\n",
              "                'suggestCharts', [key], {});\n",
              "          } catch (error) {\n",
              "            console.error('Error during call to suggestCharts:', error);\n",
              "          }\n",
              "          quickchartButtonEl.classList.remove('colab-df-spinner');\n",
              "          quickchartButtonEl.classList.add('colab-df-quickchart-complete');\n",
              "        }\n",
              "        (() => {\n",
              "          let quickchartButtonEl =\n",
              "            document.querySelector('#df-3fd5fdec-e745-4bf3-8c29-78cd4e37d070 button');\n",
              "          quickchartButtonEl.style.display =\n",
              "            google.colab.kernel.accessAllowed ? 'block' : 'none';\n",
              "        })();\n",
              "      </script>\n",
              "    </div>\n",
              "\n",
              "    </div>\n",
              "  </div>\n"
            ],
            "application/vnd.google.colaboratory.intrinsic+json": {
              "type": "dataframe",
              "summary": "{\n  \"name\": \"cosine_sim_df\",\n  \"rows\": 5,\n  \"fields\": [\n    {\n      \"column\": \"name\",\n      \"properties\": {\n        \"dtype\": \"string\",\n        \"num_unique_values\": 5,\n        \"samples\": [\n          \"Fullmetal Alchemist: Brotherhood\",\n          \"Gintama&#039;\",\n          \"Gintama\\u00b0\"\n        ],\n        \"semantic_type\": \"\",\n        \"description\": \"\"\n      }\n    },\n    {\n      \"column\": \"Kimi no Na wa.\",\n      \"properties\": {\n        \"dtype\": \"number\",\n        \"std\": 0.43544861182403066,\n        \"min\": 0.0,\n        \"max\": 1.0000000000000002,\n        \"num_unique_values\": 3,\n        \"samples\": [\n          1.0000000000000002,\n          0.14715318333863664,\n          0.0\n        ],\n        \"semantic_type\": \"\",\n        \"description\": \"\"\n      }\n    },\n    {\n      \"column\": \"Fullmetal Alchemist: Brotherhood\",\n      \"properties\": {\n        \"dtype\": \"number\",\n        \"std\": 0.39772704939708553,\n        \"min\": 0.0,\n        \"max\": 1.0,\n        \"num_unique_values\": 4,\n        \"samples\": [\n          1.0,\n          0.0,\n          0.14715318333863664\n        ],\n        \"semantic_type\": \"\",\n        \"description\": \"\"\n      }\n    },\n    {\n      \"column\": \"Gintama\\u00b0\",\n      \"properties\": {\n        \"dtype\": \"number\",\n        \"std\": 0.4819467945841572,\n        \"min\": 0.0,\n        \"max\": 1.0,\n        \"num_unique_values\": 4,\n        \"samples\": [\n          0.17877807645783386,\n          0.220854807159731,\n          0.0\n        ],\n        \"semantic_type\": \"\",\n        \"description\": \"\"\n      }\n    },\n    {\n      \"column\": \"Steins;Gate\",\n      \"properties\": {\n        \"dtype\": \"number\",\n        \"std\": 0.4128705515312547,\n        \"min\": 0.0,\n        \"max\": 1.0,\n        \"num_unique_values\": 3,\n        \"samples\": [\n          0.0,\n          0.220854807159731,\n          1.0\n        ],\n        \"semantic_type\": \"\",\n        \"description\": \"\"\n      }\n    },\n    {\n      \"column\": \"Gintama&#039;\",\n      \"properties\": {\n        \"dtype\": \"number\",\n        \"std\": 0.4819467945841572,\n        \"min\": 0.0,\n        \"max\": 1.0,\n        \"num_unique_values\": 4,\n        \"samples\": [\n          0.17877807645783386,\n          0.220854807159731,\n          0.0\n        ],\n        \"semantic_type\": \"\",\n        \"description\": \"\"\n      }\n    }\n  ]\n}"
            }
          },
          "metadata": {},
          "execution_count": 56
        }
      ],
      "source": [
        "# Konversi cosine_sim_matrix ke DataFrame\n",
        "cosine_sim_df = pd.DataFrame(cosine_sim_matrix, index=anime_df['name'], columns=anime_df['name'])\n",
        "\n",
        "# Tampilkan shape dan contoh isi 5x5\n",
        "print(\"Shape of Cosine Similarity Matrix:\", cosine_sim_df.shape)\n",
        "print(\"\\nContoh matriks kesamaan (5x5):\")\n",
        "cosine_sim_df.iloc[:5, :5]\n"
      ]
    },
    {
      "cell_type": "markdown",
      "source": [
        "\n",
        "**Cosine Similarity Matrix**\n",
        "Shape: **(12017, 12017)**\n",
        "Artinya, untuk setiap anime, kita tahu **seberapa mirip** dia dengan **semua anime lain** (berdasarkan genre).\n",
        "Nilai similarity berkisar antara **0 (tidak mirip)** hingga **1 (sangat mirip / identik)**.\n",
        "\n",
        "\n",
        "**Contoh matriks kesamaan (5x5):**\n",
        "\n",
        "* Diagonal selalu **1.0** → anime selalu 100% mirip dengan dirinya sendiri.\n",
        "* Nilai di luar diagonal:\n",
        "\n",
        "  * Ada beberapa anime yang **cukup mirip** → nilai \\~0.14 hingga \\~0.22.\n",
        "  * Ada yang **tidak mirip sama sekali** → nilai 0.\n",
        "\n",
        "**Interpretasi:**\n",
        "Anime dengan genre yang mirip → memiliki nilai similarity lebih tinggi → nantinya bisa dipakai untuk **merekomendasikan anime dengan genre serupa**.\n"
      ],
      "metadata": {
        "id": "jXf6RdC-yWJ-"
      },
      "id": "jXf6RdC-yWJ-"
    },
    {
      "cell_type": "code",
      "execution_count": 57,
      "id": "6a3568ad",
      "metadata": {
        "id": "6a3568ad"
      },
      "outputs": [],
      "source": [
        "def get_content_based_recommendations(anime_title, similarity_data=cosine_sim_df, items=anime_df[['name', 'genre']], k=10):\n",
        "    # Mengambil data dengan menggunakan argpartition untuk mendapatkan k anime paling mirip\n",
        "    index = similarity_data.loc[:, anime_title].to_numpy().argpartition(range(-1, -k, -1))\n",
        "\n",
        "    # Mengambil data dengan similarity terbesar dari index yang ada\n",
        "    closest = similarity_data.columns[index[-1:-(k+2):-1]]\n",
        "\n",
        "    # Drop anime_title agar tidak direkomendasikan lagi\n",
        "    closest = closest.drop(anime_title, errors='ignore')\n",
        "\n",
        "    return pd.DataFrame(closest).merge(items).head(k)"
      ]
    },
    {
      "cell_type": "markdown",
      "id": "_-JGByAAbGaV",
      "metadata": {
        "id": "_-JGByAAbGaV"
      },
      "source": [
        "Fungsi `get_content_based_recommendations` digunakan untuk merekomendasikan anime yang paling mirip dengan anime yang dipilih user, berdasarkan kemiripan genre yang dihitung dari matriks cosine similarity. Fungsi ini mengambil k anime dengan similarity tertinggi terhadap anime input, lalu mengembalikannya dalam bentuk tabel berisi judul dan genre anime. Anime yang direkomendasikan tidak akan mencantumkan anime asal yang diminta user (tidak direkomendasikan ulang ke user). Pendekatan ini termasuk **Content-Based Filtering** karena hanya mempertimbangkan informasi konten (genre), tanpa melihat preferensi pengguna lain.\n"
      ]
    },
    {
      "cell_type": "code",
      "execution_count": 58,
      "id": "b0ac1bf3",
      "metadata": {
        "colab": {
          "base_uri": "https://localhost:8080/",
          "height": 366
        },
        "id": "b0ac1bf3",
        "outputId": "6ff93fe6-41ea-47e7-e009-64ed4291c0bb"
      },
      "outputs": [
        {
          "output_type": "stream",
          "name": "stdout",
          "text": [
            "Rekomendasi untuk 'Naruto':\n"
          ]
        },
        {
          "output_type": "execute_result",
          "data": {
            "text/plain": [
              "                                                name  \\\n",
              "0                                        Naruto x UT   \n",
              "1  Boruto: Naruto the Movie - Naruto ga Hokage ni...   \n",
              "2        Naruto: Shippuuden Movie 4 - The Lost Tower   \n",
              "3               Naruto Shippuuden: Sunny Side Battle   \n",
              "4                                 Naruto: Shippuuden   \n",
              "5  Naruto Soyokazeden Movie: Naruto to Mashin to ...   \n",
              "6  Naruto: Shippuuden Movie 3 - Hi no Ishi wo Tsu...   \n",
              "7                           Boruto: Naruto the Movie   \n",
              "8                            Kyutai Panic Adventure!   \n",
              "9         Naruto: Shippuuden Movie 6 - Road to Ninja   \n",
              "\n",
              "                                               genre  \n",
              "0  Action, Comedy, Martial Arts, Shounen, Super P...  \n",
              "1  Action, Comedy, Martial Arts, Shounen, Super P...  \n",
              "2  Action, Comedy, Martial Arts, Shounen, Super P...  \n",
              "3  Action, Comedy, Martial Arts, Shounen, Super P...  \n",
              "4  Action, Comedy, Martial Arts, Shounen, Super P...  \n",
              "5  Action, Comedy, Martial Arts, Shounen, Super P...  \n",
              "6  Action, Comedy, Martial Arts, Shounen, Super P...  \n",
              "7  Action, Comedy, Martial Arts, Shounen, Super P...  \n",
              "8         Action, Martial Arts, Shounen, Super Power  \n",
              "9  Action, Adventure, Martial Arts, Shounen, Supe...  "
            ],
            "text/html": [
              "\n",
              "  <div id=\"df-7bb29312-6071-43ff-8486-99adae67ad41\" class=\"colab-df-container\">\n",
              "    <div>\n",
              "<style scoped>\n",
              "    .dataframe tbody tr th:only-of-type {\n",
              "        vertical-align: middle;\n",
              "    }\n",
              "\n",
              "    .dataframe tbody tr th {\n",
              "        vertical-align: top;\n",
              "    }\n",
              "\n",
              "    .dataframe thead th {\n",
              "        text-align: right;\n",
              "    }\n",
              "</style>\n",
              "<table border=\"1\" class=\"dataframe\">\n",
              "  <thead>\n",
              "    <tr style=\"text-align: right;\">\n",
              "      <th></th>\n",
              "      <th>name</th>\n",
              "      <th>genre</th>\n",
              "    </tr>\n",
              "  </thead>\n",
              "  <tbody>\n",
              "    <tr>\n",
              "      <th>0</th>\n",
              "      <td>Naruto x UT</td>\n",
              "      <td>Action, Comedy, Martial Arts, Shounen, Super P...</td>\n",
              "    </tr>\n",
              "    <tr>\n",
              "      <th>1</th>\n",
              "      <td>Boruto: Naruto the Movie - Naruto ga Hokage ni...</td>\n",
              "      <td>Action, Comedy, Martial Arts, Shounen, Super P...</td>\n",
              "    </tr>\n",
              "    <tr>\n",
              "      <th>2</th>\n",
              "      <td>Naruto: Shippuuden Movie 4 - The Lost Tower</td>\n",
              "      <td>Action, Comedy, Martial Arts, Shounen, Super P...</td>\n",
              "    </tr>\n",
              "    <tr>\n",
              "      <th>3</th>\n",
              "      <td>Naruto Shippuuden: Sunny Side Battle</td>\n",
              "      <td>Action, Comedy, Martial Arts, Shounen, Super P...</td>\n",
              "    </tr>\n",
              "    <tr>\n",
              "      <th>4</th>\n",
              "      <td>Naruto: Shippuuden</td>\n",
              "      <td>Action, Comedy, Martial Arts, Shounen, Super P...</td>\n",
              "    </tr>\n",
              "    <tr>\n",
              "      <th>5</th>\n",
              "      <td>Naruto Soyokazeden Movie: Naruto to Mashin to ...</td>\n",
              "      <td>Action, Comedy, Martial Arts, Shounen, Super P...</td>\n",
              "    </tr>\n",
              "    <tr>\n",
              "      <th>6</th>\n",
              "      <td>Naruto: Shippuuden Movie 3 - Hi no Ishi wo Tsu...</td>\n",
              "      <td>Action, Comedy, Martial Arts, Shounen, Super P...</td>\n",
              "    </tr>\n",
              "    <tr>\n",
              "      <th>7</th>\n",
              "      <td>Boruto: Naruto the Movie</td>\n",
              "      <td>Action, Comedy, Martial Arts, Shounen, Super P...</td>\n",
              "    </tr>\n",
              "    <tr>\n",
              "      <th>8</th>\n",
              "      <td>Kyutai Panic Adventure!</td>\n",
              "      <td>Action, Martial Arts, Shounen, Super Power</td>\n",
              "    </tr>\n",
              "    <tr>\n",
              "      <th>9</th>\n",
              "      <td>Naruto: Shippuuden Movie 6 - Road to Ninja</td>\n",
              "      <td>Action, Adventure, Martial Arts, Shounen, Supe...</td>\n",
              "    </tr>\n",
              "  </tbody>\n",
              "</table>\n",
              "</div>\n",
              "    <div class=\"colab-df-buttons\">\n",
              "\n",
              "  <div class=\"colab-df-container\">\n",
              "    <button class=\"colab-df-convert\" onclick=\"convertToInteractive('df-7bb29312-6071-43ff-8486-99adae67ad41')\"\n",
              "            title=\"Convert this dataframe to an interactive table.\"\n",
              "            style=\"display:none;\">\n",
              "\n",
              "  <svg xmlns=\"http://www.w3.org/2000/svg\" height=\"24px\" viewBox=\"0 -960 960 960\">\n",
              "    <path d=\"M120-120v-720h720v720H120Zm60-500h600v-160H180v160Zm220 220h160v-160H400v160Zm0 220h160v-160H400v160ZM180-400h160v-160H180v160Zm440 0h160v-160H620v160ZM180-180h160v-160H180v160Zm440 0h160v-160H620v160Z\"/>\n",
              "  </svg>\n",
              "    </button>\n",
              "\n",
              "  <style>\n",
              "    .colab-df-container {\n",
              "      display:flex;\n",
              "      gap: 12px;\n",
              "    }\n",
              "\n",
              "    .colab-df-convert {\n",
              "      background-color: #E8F0FE;\n",
              "      border: none;\n",
              "      border-radius: 50%;\n",
              "      cursor: pointer;\n",
              "      display: none;\n",
              "      fill: #1967D2;\n",
              "      height: 32px;\n",
              "      padding: 0 0 0 0;\n",
              "      width: 32px;\n",
              "    }\n",
              "\n",
              "    .colab-df-convert:hover {\n",
              "      background-color: #E2EBFA;\n",
              "      box-shadow: 0px 1px 2px rgba(60, 64, 67, 0.3), 0px 1px 3px 1px rgba(60, 64, 67, 0.15);\n",
              "      fill: #174EA6;\n",
              "    }\n",
              "\n",
              "    .colab-df-buttons div {\n",
              "      margin-bottom: 4px;\n",
              "    }\n",
              "\n",
              "    [theme=dark] .colab-df-convert {\n",
              "      background-color: #3B4455;\n",
              "      fill: #D2E3FC;\n",
              "    }\n",
              "\n",
              "    [theme=dark] .colab-df-convert:hover {\n",
              "      background-color: #434B5C;\n",
              "      box-shadow: 0px 1px 3px 1px rgba(0, 0, 0, 0.15);\n",
              "      filter: drop-shadow(0px 1px 2px rgba(0, 0, 0, 0.3));\n",
              "      fill: #FFFFFF;\n",
              "    }\n",
              "  </style>\n",
              "\n",
              "    <script>\n",
              "      const buttonEl =\n",
              "        document.querySelector('#df-7bb29312-6071-43ff-8486-99adae67ad41 button.colab-df-convert');\n",
              "      buttonEl.style.display =\n",
              "        google.colab.kernel.accessAllowed ? 'block' : 'none';\n",
              "\n",
              "      async function convertToInteractive(key) {\n",
              "        const element = document.querySelector('#df-7bb29312-6071-43ff-8486-99adae67ad41');\n",
              "        const dataTable =\n",
              "          await google.colab.kernel.invokeFunction('convertToInteractive',\n",
              "                                                    [key], {});\n",
              "        if (!dataTable) return;\n",
              "\n",
              "        const docLinkHtml = 'Like what you see? Visit the ' +\n",
              "          '<a target=\"_blank\" href=https://colab.research.google.com/notebooks/data_table.ipynb>data table notebook</a>'\n",
              "          + ' to learn more about interactive tables.';\n",
              "        element.innerHTML = '';\n",
              "        dataTable['output_type'] = 'display_data';\n",
              "        await google.colab.output.renderOutput(dataTable, element);\n",
              "        const docLink = document.createElement('div');\n",
              "        docLink.innerHTML = docLinkHtml;\n",
              "        element.appendChild(docLink);\n",
              "      }\n",
              "    </script>\n",
              "  </div>\n",
              "\n",
              "\n",
              "    <div id=\"df-b8998572-21ea-45dd-9995-11d51a44a9fa\">\n",
              "      <button class=\"colab-df-quickchart\" onclick=\"quickchart('df-b8998572-21ea-45dd-9995-11d51a44a9fa')\"\n",
              "                title=\"Suggest charts\"\n",
              "                style=\"display:none;\">\n",
              "\n",
              "<svg xmlns=\"http://www.w3.org/2000/svg\" height=\"24px\"viewBox=\"0 0 24 24\"\n",
              "     width=\"24px\">\n",
              "    <g>\n",
              "        <path d=\"M19 3H5c-1.1 0-2 .9-2 2v14c0 1.1.9 2 2 2h14c1.1 0 2-.9 2-2V5c0-1.1-.9-2-2-2zM9 17H7v-7h2v7zm4 0h-2V7h2v10zm4 0h-2v-4h2v4z\"/>\n",
              "    </g>\n",
              "</svg>\n",
              "      </button>\n",
              "\n",
              "<style>\n",
              "  .colab-df-quickchart {\n",
              "      --bg-color: #E8F0FE;\n",
              "      --fill-color: #1967D2;\n",
              "      --hover-bg-color: #E2EBFA;\n",
              "      --hover-fill-color: #174EA6;\n",
              "      --disabled-fill-color: #AAA;\n",
              "      --disabled-bg-color: #DDD;\n",
              "  }\n",
              "\n",
              "  [theme=dark] .colab-df-quickchart {\n",
              "      --bg-color: #3B4455;\n",
              "      --fill-color: #D2E3FC;\n",
              "      --hover-bg-color: #434B5C;\n",
              "      --hover-fill-color: #FFFFFF;\n",
              "      --disabled-bg-color: #3B4455;\n",
              "      --disabled-fill-color: #666;\n",
              "  }\n",
              "\n",
              "  .colab-df-quickchart {\n",
              "    background-color: var(--bg-color);\n",
              "    border: none;\n",
              "    border-radius: 50%;\n",
              "    cursor: pointer;\n",
              "    display: none;\n",
              "    fill: var(--fill-color);\n",
              "    height: 32px;\n",
              "    padding: 0;\n",
              "    width: 32px;\n",
              "  }\n",
              "\n",
              "  .colab-df-quickchart:hover {\n",
              "    background-color: var(--hover-bg-color);\n",
              "    box-shadow: 0 1px 2px rgba(60, 64, 67, 0.3), 0 1px 3px 1px rgba(60, 64, 67, 0.15);\n",
              "    fill: var(--button-hover-fill-color);\n",
              "  }\n",
              "\n",
              "  .colab-df-quickchart-complete:disabled,\n",
              "  .colab-df-quickchart-complete:disabled:hover {\n",
              "    background-color: var(--disabled-bg-color);\n",
              "    fill: var(--disabled-fill-color);\n",
              "    box-shadow: none;\n",
              "  }\n",
              "\n",
              "  .colab-df-spinner {\n",
              "    border: 2px solid var(--fill-color);\n",
              "    border-color: transparent;\n",
              "    border-bottom-color: var(--fill-color);\n",
              "    animation:\n",
              "      spin 1s steps(1) infinite;\n",
              "  }\n",
              "\n",
              "  @keyframes spin {\n",
              "    0% {\n",
              "      border-color: transparent;\n",
              "      border-bottom-color: var(--fill-color);\n",
              "      border-left-color: var(--fill-color);\n",
              "    }\n",
              "    20% {\n",
              "      border-color: transparent;\n",
              "      border-left-color: var(--fill-color);\n",
              "      border-top-color: var(--fill-color);\n",
              "    }\n",
              "    30% {\n",
              "      border-color: transparent;\n",
              "      border-left-color: var(--fill-color);\n",
              "      border-top-color: var(--fill-color);\n",
              "      border-right-color: var(--fill-color);\n",
              "    }\n",
              "    40% {\n",
              "      border-color: transparent;\n",
              "      border-right-color: var(--fill-color);\n",
              "      border-top-color: var(--fill-color);\n",
              "    }\n",
              "    60% {\n",
              "      border-color: transparent;\n",
              "      border-right-color: var(--fill-color);\n",
              "    }\n",
              "    80% {\n",
              "      border-color: transparent;\n",
              "      border-right-color: var(--fill-color);\n",
              "      border-bottom-color: var(--fill-color);\n",
              "    }\n",
              "    90% {\n",
              "      border-color: transparent;\n",
              "      border-bottom-color: var(--fill-color);\n",
              "    }\n",
              "  }\n",
              "</style>\n",
              "\n",
              "      <script>\n",
              "        async function quickchart(key) {\n",
              "          const quickchartButtonEl =\n",
              "            document.querySelector('#' + key + ' button');\n",
              "          quickchartButtonEl.disabled = true;  // To prevent multiple clicks.\n",
              "          quickchartButtonEl.classList.add('colab-df-spinner');\n",
              "          try {\n",
              "            const charts = await google.colab.kernel.invokeFunction(\n",
              "                'suggestCharts', [key], {});\n",
              "          } catch (error) {\n",
              "            console.error('Error during call to suggestCharts:', error);\n",
              "          }\n",
              "          quickchartButtonEl.classList.remove('colab-df-spinner');\n",
              "          quickchartButtonEl.classList.add('colab-df-quickchart-complete');\n",
              "        }\n",
              "        (() => {\n",
              "          let quickchartButtonEl =\n",
              "            document.querySelector('#df-b8998572-21ea-45dd-9995-11d51a44a9fa button');\n",
              "          quickchartButtonEl.style.display =\n",
              "            google.colab.kernel.accessAllowed ? 'block' : 'none';\n",
              "        })();\n",
              "      </script>\n",
              "    </div>\n",
              "\n",
              "  <div id=\"id_cd437026-2317-4fb4-9edc-4b7baa6d366a\">\n",
              "    <style>\n",
              "      .colab-df-generate {\n",
              "        background-color: #E8F0FE;\n",
              "        border: none;\n",
              "        border-radius: 50%;\n",
              "        cursor: pointer;\n",
              "        display: none;\n",
              "        fill: #1967D2;\n",
              "        height: 32px;\n",
              "        padding: 0 0 0 0;\n",
              "        width: 32px;\n",
              "      }\n",
              "\n",
              "      .colab-df-generate:hover {\n",
              "        background-color: #E2EBFA;\n",
              "        box-shadow: 0px 1px 2px rgba(60, 64, 67, 0.3), 0px 1px 3px 1px rgba(60, 64, 67, 0.15);\n",
              "        fill: #174EA6;\n",
              "      }\n",
              "\n",
              "      [theme=dark] .colab-df-generate {\n",
              "        background-color: #3B4455;\n",
              "        fill: #D2E3FC;\n",
              "      }\n",
              "\n",
              "      [theme=dark] .colab-df-generate:hover {\n",
              "        background-color: #434B5C;\n",
              "        box-shadow: 0px 1px 3px 1px rgba(0, 0, 0, 0.15);\n",
              "        filter: drop-shadow(0px 1px 2px rgba(0, 0, 0, 0.3));\n",
              "        fill: #FFFFFF;\n",
              "      }\n",
              "    </style>\n",
              "    <button class=\"colab-df-generate\" onclick=\"generateWithVariable('recommendations')\"\n",
              "            title=\"Generate code using this dataframe.\"\n",
              "            style=\"display:none;\">\n",
              "\n",
              "  <svg xmlns=\"http://www.w3.org/2000/svg\" height=\"24px\"viewBox=\"0 0 24 24\"\n",
              "       width=\"24px\">\n",
              "    <path d=\"M7,19H8.4L18.45,9,17,7.55,7,17.6ZM5,21V16.75L18.45,3.32a2,2,0,0,1,2.83,0l1.4,1.43a1.91,1.91,0,0,1,.58,1.4,1.91,1.91,0,0,1-.58,1.4L9.25,21ZM18.45,9,17,7.55Zm-12,3A5.31,5.31,0,0,0,4.9,8.1,5.31,5.31,0,0,0,1,6.5,5.31,5.31,0,0,0,4.9,4.9,5.31,5.31,0,0,0,6.5,1,5.31,5.31,0,0,0,8.1,4.9,5.31,5.31,0,0,0,12,6.5,5.46,5.46,0,0,0,6.5,12Z\"/>\n",
              "  </svg>\n",
              "    </button>\n",
              "    <script>\n",
              "      (() => {\n",
              "      const buttonEl =\n",
              "        document.querySelector('#id_cd437026-2317-4fb4-9edc-4b7baa6d366a button.colab-df-generate');\n",
              "      buttonEl.style.display =\n",
              "        google.colab.kernel.accessAllowed ? 'block' : 'none';\n",
              "\n",
              "      buttonEl.onclick = () => {\n",
              "        google.colab.notebook.generateWithVariable('recommendations');\n",
              "      }\n",
              "      })();\n",
              "    </script>\n",
              "  </div>\n",
              "\n",
              "    </div>\n",
              "  </div>\n"
            ],
            "application/vnd.google.colaboratory.intrinsic+json": {
              "type": "dataframe",
              "variable_name": "recommendations",
              "summary": "{\n  \"name\": \"recommendations\",\n  \"rows\": 10,\n  \"fields\": [\n    {\n      \"column\": \"name\",\n      \"properties\": {\n        \"dtype\": \"string\",\n        \"num_unique_values\": 10,\n        \"samples\": [\n          \"Kyutai Panic Adventure!\",\n          \"Boruto: Naruto the Movie - Naruto ga Hokage ni Natta Hi\",\n          \"Naruto Soyokazeden Movie: Naruto to Mashin to Mitsu no Onegai Dattebayo!!\"\n        ],\n        \"semantic_type\": \"\",\n        \"description\": \"\"\n      }\n    },\n    {\n      \"column\": \"genre\",\n      \"properties\": {\n        \"dtype\": \"category\",\n        \"num_unique_values\": 3,\n        \"samples\": [\n          \"Action, Comedy, Martial Arts, Shounen, Super Power\",\n          \"Action, Martial Arts, Shounen, Super Power\",\n          \"Action, Adventure, Martial Arts, Shounen, Super Power\"\n        ],\n        \"semantic_type\": \"\",\n        \"description\": \"\"\n      }\n    }\n  ]\n}"
            }
          },
          "metadata": {},
          "execution_count": 58
        }
      ],
      "source": [
        "# Mari kita coba mencari rekomendasi untuk \"Naruto\"\n",
        "anime_title_test = \"Naruto\"\n",
        "recommendations = get_content_based_recommendations(anime_title_test)\n",
        "\n",
        "print(f\"Rekomendasi untuk '{anime_title_test}':\")\n",
        "recommendations"
      ]
    },
    {
      "cell_type": "markdown",
      "id": "2l9obWT7bzmX",
      "metadata": {
        "id": "2l9obWT7bzmX"
      },
      "source": [
        "Hasil rekomendasi menunjukkan bahwa model berhasil merekomendasikan anime yang sangat relevan dengan *Naruto*, yaitu berbagai judul dalam franchise *Naruto* dan *Boruto*, serta film dan spin-off yang berbagi genre yang sangat mirip: **Action**, **Comedy**, **Martial Arts**, **Shounen**, **Super Power**. Ini sesuai dengan ekspektasi, karena pendekatan content-based filtering menggunakan **kemiripan genre** sebagai dasar rekomendasi, sehingga model secara alami mengembalikan anime yang memiliki kombinasi genre serupa. Ini juga menegaskan bahwa content-based filtering cenderung **memperkuat eksplorasi dalam genre yang sama**, bukan menyarankan genre yang berbeda. Kekurangan pendekatan ini adalah potensi rekomendasi yang cenderung \"sempit\" (berputar di franchise yang sama).\n"
      ]
    },
    {
      "cell_type": "markdown",
      "id": "WE09UrttrY3h",
      "metadata": {
        "id": "WE09UrttrY3h"
      },
      "source": [
        "Evaaluasi Model Content Based Filtering"
      ]
    },
    {
      "cell_type": "code",
      "execution_count": 59,
      "id": "ulK2x5q8rU2L",
      "metadata": {
        "id": "ulK2x5q8rU2L"
      },
      "outputs": [],
      "source": [
        "import math\n",
        "\n",
        "def precision_at_k(recommended_items, relevant_items, k):\n",
        "    \"\"\"\n",
        "    Precision@K untuk Content-Based Filtering.\n",
        "    \"\"\"\n",
        "    if k == 0: return 0.0\n",
        "    hits = sum(1 for item in recommended_items[:k] if item in relevant_items)\n",
        "    return hits / k\n",
        "\n",
        "def recall_at_k(recommended_items, relevant_items, k):\n",
        "    \"\"\"\n",
        "    Recall@K untuk Content-Based Filtering.\n",
        "    \"\"\"\n",
        "    if not relevant_items: return 0.0\n",
        "    hits = sum(1 for item in recommended_items[:k] if item in relevant_items)\n",
        "    return hits / len(relevant_items)\n",
        "\n",
        "def ndcg_at_k(recommended_items, relevant_items, k):\n",
        "    \"\"\"\n",
        "    NDCG@K untuk Content-Based Filtering.\n",
        "    \"\"\"\n",
        "    dcg = 0.0\n",
        "    for i, item in enumerate(recommended_items[:k]):\n",
        "        rel = 1 if item in relevant_items else 0\n",
        "        dcg += rel / math.log2(i + 2)\n",
        "\n",
        "    ideal_hits = min(len(relevant_items), k)\n",
        "    idcg = sum(1 / math.log2(i + 2) for i in range(ideal_hits))\n",
        "\n",
        "    return dcg / idcg if idcg > 0 else 0.0\n"
      ]
    },
    {
      "cell_type": "markdown",
      "id": "yovAEv85ucXw",
      "metadata": {
        "id": "yovAEv85ucXw"
      },
      "source": [
        "**Insight:**\n",
        "\n",
        "1. Precision@K mengukur seberapa banyak item relevan yang berhasil muncul di daftar rekomendasi teratas sebanyak K item.\n",
        "2. Recall@K menilai sejauh mana sistem berhasil menemukan semua item relevan yang tersedia.\n",
        "3. NDCG@K (Normalized Discounted Cumulative Gain) mengevaluasi kualitas urutan rekomendasi dengan mempertimbangkan relevansi dan posisi item — semakin atas item relevan muncul, semakin baik."
      ]
    },
    {
      "cell_type": "code",
      "execution_count": 60,
      "id": "Zb0aSpwxtxmr",
      "metadata": {
        "id": "Zb0aSpwxtxmr"
      },
      "outputs": [],
      "source": [
        "def evaluate_cbf_global(anime_df, sim_df, k=5, relevance_threshold=0.3):\n",
        "    precisions, recalls, ndcgs = [], [], []\n",
        "\n",
        "    for anime_name in sim_df.index:\n",
        "        if anime_name not in sim_df.columns:\n",
        "            continue\n",
        "\n",
        "        # Ambil similarity ke anime lain, drop diri sendiri\n",
        "        similarities = sim_df.loc[anime_name].drop(anime_name, errors='ignore')\n",
        "        # Ambil anime yang similarity >= threshold → relevan\n",
        "        relevant_scores = similarities[similarities >= relevance_threshold]\n",
        "\n",
        "        if relevant_scores.empty:\n",
        "            continue\n",
        "\n",
        "        relevant_set = set(relevant_scores.index)\n",
        "\n",
        "        # Dapatkan rekomendasi CBF (gunakan fungsi yg kamu pakai sebelumnya → disesuaikan)\n",
        "        recommendations = get_content_based_recommendations(anime_name, similarity_data=sim_df, items=anime_df[['name', 'genre']], k=k)\n",
        "\n",
        "        if not isinstance(recommendations, pd.DataFrame) or recommendations.empty:\n",
        "            continue\n",
        "\n",
        "        # Ambil nama anime yg direkomendasikan\n",
        "        recommended_names = recommendations['name'].tolist()[:k]\n",
        "\n",
        "        # Hitung metrik\n",
        "        prec = precision_at_k(recommended_names, relevant_set, k)\n",
        "        rec = recall_at_k(recommended_names, relevant_set, k)\n",
        "        ndcg = ndcg_at_k(recommended_names, relevant_set, k)\n",
        "\n",
        "        precisions.append(prec)\n",
        "        recalls.append(rec)\n",
        "        ndcgs.append(ndcg)\n",
        "\n",
        "    # Hitung rata-rata global\n",
        "    avg_precision = np.mean(precisions) if precisions else 0.0\n",
        "    avg_recall = np.mean(recalls) if recalls else 0.0\n",
        "    avg_ndcg = np.mean(ndcgs) if ndcgs else 0.0\n",
        "\n",
        "    # Print hasil\n",
        "    print(f\"\\nEvaluasi Global Content-Based Filtering (Genre TF-IDF):\")\n",
        "    print(f\"Avg Precision@{k}: {avg_precision:.4f}\")\n",
        "    print(f\"Avg Recall@{k}: {avg_recall:.4f}\")\n",
        "    print(f\"Avg NDCG@{k}: {avg_ndcg:.4f}\")\n",
        "\n",
        "    return avg_precision, avg_recall, avg_ndcg\n"
      ]
    },
    {
      "cell_type": "markdown",
      "id": "0PNYC81-uYHh",
      "metadata": {
        "id": "0PNYC81-uYHh"
      },
      "source": [
        "**Insight:**\n",
        "- Fungsi mengevaluasi performa sistem rekomendasi berbasis deskripsi dengan metrik Precision@K, Recall@K, dan NDCG@K.\n",
        "- Menggunakan threshold similarity untuk menentukan item yang dianggap relevan.\n",
        "- Hasil evaluasi dirata-rata dari seluruh tempat wisata yang valid untuk memberikan gambaran umum akurasi rekomendasi."
      ]
    },
    {
      "cell_type": "code",
      "execution_count": 20,
      "id": "-gnpb12SuE-i",
      "metadata": {
        "id": "-gnpb12SuE-i",
        "outputId": "ac3f790d-ab26-4571-f1a4-af33aa423aad",
        "colab": {
          "base_uri": "https://localhost:8080/"
        }
      },
      "outputs": [
        {
          "output_type": "stream",
          "name": "stdout",
          "text": [
            "\n",
            "Evaluasi CBF Genre (TF-IDF) dengan Perhitungan NDCG...\n",
            "\n",
            "Evaluasi Global Content-Based Filtering (Genre TF-IDF):\n",
            "Avg Precision@10: 1.0000\n",
            "Avg Recall@10: 0.0075\n",
            "Avg NDCG@10: 1.0000\n"
          ]
        }
      ],
      "source": [
        "# Evaluasi Content-Based Filtering berbasis Genre (TF-IDF)\n",
        "print(\"\\nEvaluasi CBF Genre (TF-IDF) dengan Perhitungan NDCG...\")\n",
        "\n",
        "avg_precision_cbf, avg_recall_cbf, avg_ndcg_cbf = evaluate_cbf_global(\n",
        "    anime_df,\n",
        "    cosine_sim_df,\n",
        "    k=10,\n",
        "    relevance_threshold=0.3\n",
        ")\n"
      ]
    },
    {
      "cell_type": "markdown",
      "source": [
        "**Analisis:**\n",
        "\n",
        "* **Precision\\@10 = 1.0000:**\n",
        "  Artinya *semua* anime yang direkomendasikan di top-10 oleh sistem *terbukti relevan* (berada di daftar anime yang genre-nya serupa dengan anime acuan).\n",
        "  → Ini menunjukkan bahwa **rekomendasi yang diberikan model sangat akurat** → kalau sistem sudah merekomendasikan, pasti cocok secara genre.\n",
        "\n",
        "* **Recall\\@10 = 0.0075:**\n",
        "  Artinya model **hanya bisa mencakup sekitar 0.75%** dari seluruh anime yang relevan (berdasarkan threshold genre similarity yang ditentukan).\n",
        "  → Jadi walaupun top-10 rekomendasi-nya tepat (precision tinggi), model **belum berhasil memunculkan seluruh potensi anime relevan** yang ada. Ini wajar karena genre anime sangat beragam dan **CBF genre-only** memang cenderung punya **recall rendah**.\n",
        "\n",
        "* **NDCG\\@10 = 1.0000:**\n",
        "  Artinya **urutan dalam top-10 rekomendasi optimal** → anime yang paling relevan muncul di peringkat atas.\n",
        "  → Sistem berhasil menempatkan anime dengan kemiripan genre tertinggi di posisi teratas rekomendasi, memberikan pengalaman yang baik untuk user."
      ],
      "metadata": {
        "id": "DcuLeeRjzcYU"
      },
      "id": "DcuLeeRjzcYU"
    },
    {
      "cell_type": "markdown",
      "id": "_QliZRIDZOA8",
      "metadata": {
        "id": "_QliZRIDZOA8"
      },
      "source": [
        "## **Collaborative Filtering Modelling**\n",
        "Pendekatan kedua adalah Collaborative Filtering menggunakan Singular Value Decomposition (SVD) dari library `surprise`."
      ]
    },
    {
      "cell_type": "code",
      "execution_count": 21,
      "id": "08d7b0c0",
      "metadata": {
        "id": "08d7b0c0"
      },
      "outputs": [],
      "source": [
        "reader = Reader(rating_scale=(1, 10))\n",
        "data = Dataset.load_from_df(rating_df[['user_id', 'anime_id', 'rating']], reader)\n",
        "trainset_full = data.build_full_trainset()\n"
      ]
    },
    {
      "cell_type": "markdown",
      "id": "d3qJV0ffdTox",
      "metadata": {
        "id": "d3qJV0ffdTox"
      },
      "source": [
        "Penjelasan kode:\n",
        "\n",
        "* **`Reader(rating_scale=(1, 10))`**\n",
        "  Ini mendefinisikan *range* rating yang valid, yaitu 1 sampai 10, sesuai dengan skala rating pada dataset `rating_df`.\n",
        "\n",
        "* **`Dataset.load_from_df(rating_df[['user_id', 'anime_id', 'rating']], reader)`**\n",
        "  Dataset Surprise dibuat dari tiga kolom: `user_id`, `anime_id`, dan `rating`. Ini memungkinkan kita menggunakan model collaborative filtering (misalnya SVD) untuk mempelajari interaksi antara user dan anime.\n",
        "\n",
        "* **`trainset_full = data.build_full_trainset()`**\n",
        "  Ini membangun **trainset penuh** dari seluruh data rating yang tersedia. Berarti seluruh data rating akan dipakai untuk melatih model (tidak ada split train/test manual di sini), cocok saat kita ingin melakukan **final training** model untuk deployment atau prediksi.\n",
        "\n",
        "Insight:\n",
        "Dengan memproses data menjadi `trainset_full`, kita sedang mempersiapkan model collaborative filtering (seperti SVD) untuk belajar dari **seluruh interaksi user-anime yang ada**. Ini membuat model bisa menangkap sebanyak mungkin pola preferensi user, meskipun tradeoff-nya adalah kita tidak bisa mengevaluasi performa model di data unseen kecuali menggunakan cross-validation. Data di sini telah dinormalisasi ke format yang bisa diproses oleh algoritma Surprise (misal SVD).\n"
      ]
    },
    {
      "cell_type": "code",
      "execution_count": 22,
      "id": "1xgd6b4bt64a",
      "metadata": {
        "id": "1xgd6b4bt64a",
        "colab": {
          "base_uri": "https://localhost:8080/"
        },
        "outputId": "fbc70ce9-c006-4027-deec-f20e0632e161"
      },
      "outputs": [
        {
          "output_type": "stream",
          "name": "stdout",
          "text": [
            "Model SVD berhasil dilatih.\n",
            "Model SVD berhasil dilatih.\n"
          ]
        }
      ],
      "source": [
        "svd_model = SVD(n_factors=100, n_epochs=50, reg_all=0.1, lr_all=0.005, random_state=42)\n",
        "svd_model.fit(trainset_full)\n",
        "print(\"Model SVD berhasil dilatih.\")"
      ]
    },
    {
      "cell_type": "markdown",
      "id": "D3muO3tldshh",
      "metadata": {
        "id": "D3muO3tldshh"
      },
      "source": [
        "Penjelasan kode dan insight hasil:\n",
        "\n",
        "* `svd_model = SVD(...)`\n",
        "  Di sini kita membuat model **Singular Value Decomposition (SVD)** dari library `Surprise`, yaitu algoritma collaborative filtering berbasis matrix factorization. Parameter yang digunakan:\n",
        "\n",
        "  * `n_factors=100`: jumlah *latent factors* (dimensi representasi user dan anime). Semakin besar bisa menangkap pola kompleks, tapi bisa berisiko overfitting.\n",
        "  * `n_epochs=50`: jumlah iterasi training. Lebih banyak epoch memungkinkan model lebih terlatih.\n",
        "  * `reg_all=0.1`: parameter regularisasi untuk mencegah overfitting.\n",
        "  * `lr_all=0.005`: learning rate. Semakin kecil, proses belajar lebih stabil namun bisa lebih lambat.\n",
        "  * `random_state=42`: agar hasil reproducible (konsisten di tiap run).\n",
        "\n",
        "* `svd_model.fit(trainset_full)`\n",
        "  Melatih model SVD di seluruh data rating (`trainset_full`) yang sudah dibangun sebelumnya. Semua interaksi user-anime digunakan untuk belajar embedding user dan anime.\n",
        "\n",
        "* `print(\"Model SVD berhasil dilatih.\")`\n",
        "  Konfirmasi bahwa proses training selesai.\n",
        "\n",
        "Insight:\n",
        "Dengan melatih model SVD ini, kita membuat sistem **collaborative filtering** yang mampu merekomendasikan anime ke user **berdasarkan pola rating pengguna lain** (tanpa melihat konten anime). Model ini sudah belajar representasi **user preferences** dan **anime characteristics** dalam ruang latent 100 dimensi. Hasil model nantinya bisa digunakan untuk memprediksi seberapa suka user X terhadap anime Y yang belum pernah ditontonnya.\n"
      ]
    },
    {
      "cell_type": "code",
      "execution_count": null,
      "id": "dc54ac1b",
      "metadata": {
        "id": "dc54ac1b"
      },
      "outputs": [],
      "source": [
        "def get_collaborative_filtering_recommendations(user_id, N=10, model=svd_model, anime_data=anime_df, ratings_data=rating_df):\n",
        "    anime_rated_by_user = ratings_data[ratings_data['user_id'] == user_id]['anime_id'].unique()\n",
        "    all_anime_ids = anime_data['anime_id'].unique()\n",
        "    anime_to_predict_ids = np.setdiff1d(all_anime_ids, anime_rated_by_user)\n",
        "\n",
        "    testset_for_user = [[user_id, anime_id, 0] for anime_id in anime_to_predict_ids]\n",
        "    predictions = model.test(testset_for_user)\n",
        "    predictions.sort(key=lambda x: x.est, reverse=True)\n",
        "    top_n_predictions = predictions[:N]\n",
        "\n",
        "    recommended_anime_ids = [pred.iid for pred in top_n_predictions]\n",
        "    predicted_ratings = [pred.est for pred in top_n_predictions]\n",
        "\n",
        "    recommended_anime_details = anime_data[anime_data['anime_id'].isin(recommended_anime_ids)].copy()\n",
        "    pred_df = pd.DataFrame({'anime_id': recommended_anime_ids, 'predicted_rating': predicted_ratings})\n",
        "    recommended_anime_details = pd.merge(recommended_anime_details, pred_df, on='anime_id', how='left')\n",
        "    recommended_anime_details = recommended_anime_details.set_index('anime_id').loc[recommended_anime_ids].reset_index()\n",
        "\n",
        "    return recommended_anime_details[['name', 'genre', 'predicted_rating']]\n"
      ]
    },
    {
      "cell_type": "markdown",
      "id": "vX1l7dIieM8S",
      "metadata": {
        "id": "vX1l7dIieM8S"
      },
      "source": [
        "\n",
        "Fungsi `get_collaborative_filtering_recommendations` menghasilkan rekomendasi anime untuk seorang user berdasarkan **Collaborative Filtering (SVD)**. Pertama, fungsi mencari daftar anime yang **belum dirating** oleh user, lalu membentuk testset dengan pasangan `(user_id, anime_id)` yang akan diprediksi oleh model SVD. Hasil prediksi berupa *estimated rating* (`est`) diurutkan secara descending untuk mendapatkan **anime yang paling diperkirakan disukai user**. Fungsi kemudian mengambil detail anime (judul dan genre), menggabungkannya dengan prediksi rating, dan mengembalikan daftar N rekomendasi teratas. Dengan pendekatan ini, sistem memanfaatkan pola kesamaan preferensi antar-user (tanpa melihat konten anime) untuk memberikan rekomendasi yang personal bagi tiap user."
      ]
    },
    {
      "cell_type": "markdown",
      "id": "sUNRLG0iZoVq",
      "metadata": {
        "id": "sUNRLG0iZoVq"
      },
      "source": [
        "Contoh Hasil Rekomendasi 10 Anime untuk User 5"
      ]
    },
    {
      "cell_type": "code",
      "execution_count": 61,
      "id": "QgsKiBzm6k5i",
      "metadata": {
        "id": "QgsKiBzm6k5i",
        "colab": {
          "base_uri": "https://localhost:8080/",
          "height": 415
        },
        "outputId": "54501ea2-121f-482a-eb80-58cd5ec09e99"
      },
      "outputs": [
        {
          "output_type": "execute_result",
          "data": {
            "text/plain": [
              "                                                name  \\\n",
              "0                                     Hotaru no Haka   \n",
              "1                            Serial Experiments Lain   \n",
              "2  Ginga Eiyuu Densetsu Gaiden: Senoku no Hoshi, ...   \n",
              "3                               Ginga Eiyuu Densetsu   \n",
              "4                                       Sennen Joyuu   \n",
              "5                                 Kyou kara Ore wa!!   \n",
              "6           Persona 3 the Movie 4: Winter of Rebirth   \n",
              "7                                           Gintama°   \n",
              "8                                 Rose of Versailles   \n",
              "9                                   Imouto Paradise!   \n",
              "\n",
              "                                               genre  predicted_rating  \n",
              "0                                  Drama, Historical          9.054099  \n",
              "1  Dementia, Drama, Mystery, Psychological, Sci-F...          8.980315  \n",
              "2                    Action, Military, Sci-Fi, Space          8.519242  \n",
              "3                     Drama, Military, Sci-Fi, Space          8.459687  \n",
              "4  Action, Adventure, Drama, Fantasy, Historical,...          8.299341  \n",
              "5                                    Comedy, Shounen          8.242072  \n",
              "6              Action, Fantasy, Seinen, Supernatural          8.200684  \n",
              "7  Action, Comedy, Historical, Parody, Samurai, S...          8.184875  \n",
              "8      Adventure, Drama, Historical, Romance, Shoujo          8.149012  \n",
              "9                                             Hentai          8.081212  "
            ],
            "text/html": [
              "\n",
              "  <div id=\"df-e6f03afc-ff9b-4504-9141-c500ac293af9\" class=\"colab-df-container\">\n",
              "    <div>\n",
              "<style scoped>\n",
              "    .dataframe tbody tr th:only-of-type {\n",
              "        vertical-align: middle;\n",
              "    }\n",
              "\n",
              "    .dataframe tbody tr th {\n",
              "        vertical-align: top;\n",
              "    }\n",
              "\n",
              "    .dataframe thead th {\n",
              "        text-align: right;\n",
              "    }\n",
              "</style>\n",
              "<table border=\"1\" class=\"dataframe\">\n",
              "  <thead>\n",
              "    <tr style=\"text-align: right;\">\n",
              "      <th></th>\n",
              "      <th>name</th>\n",
              "      <th>genre</th>\n",
              "      <th>predicted_rating</th>\n",
              "    </tr>\n",
              "  </thead>\n",
              "  <tbody>\n",
              "    <tr>\n",
              "      <th>0</th>\n",
              "      <td>Hotaru no Haka</td>\n",
              "      <td>Drama, Historical</td>\n",
              "      <td>9.054099</td>\n",
              "    </tr>\n",
              "    <tr>\n",
              "      <th>1</th>\n",
              "      <td>Serial Experiments Lain</td>\n",
              "      <td>Dementia, Drama, Mystery, Psychological, Sci-F...</td>\n",
              "      <td>8.980315</td>\n",
              "    </tr>\n",
              "    <tr>\n",
              "      <th>2</th>\n",
              "      <td>Ginga Eiyuu Densetsu Gaiden: Senoku no Hoshi, ...</td>\n",
              "      <td>Action, Military, Sci-Fi, Space</td>\n",
              "      <td>8.519242</td>\n",
              "    </tr>\n",
              "    <tr>\n",
              "      <th>3</th>\n",
              "      <td>Ginga Eiyuu Densetsu</td>\n",
              "      <td>Drama, Military, Sci-Fi, Space</td>\n",
              "      <td>8.459687</td>\n",
              "    </tr>\n",
              "    <tr>\n",
              "      <th>4</th>\n",
              "      <td>Sennen Joyuu</td>\n",
              "      <td>Action, Adventure, Drama, Fantasy, Historical,...</td>\n",
              "      <td>8.299341</td>\n",
              "    </tr>\n",
              "    <tr>\n",
              "      <th>5</th>\n",
              "      <td>Kyou kara Ore wa!!</td>\n",
              "      <td>Comedy, Shounen</td>\n",
              "      <td>8.242072</td>\n",
              "    </tr>\n",
              "    <tr>\n",
              "      <th>6</th>\n",
              "      <td>Persona 3 the Movie 4: Winter of Rebirth</td>\n",
              "      <td>Action, Fantasy, Seinen, Supernatural</td>\n",
              "      <td>8.200684</td>\n",
              "    </tr>\n",
              "    <tr>\n",
              "      <th>7</th>\n",
              "      <td>Gintama°</td>\n",
              "      <td>Action, Comedy, Historical, Parody, Samurai, S...</td>\n",
              "      <td>8.184875</td>\n",
              "    </tr>\n",
              "    <tr>\n",
              "      <th>8</th>\n",
              "      <td>Rose of Versailles</td>\n",
              "      <td>Adventure, Drama, Historical, Romance, Shoujo</td>\n",
              "      <td>8.149012</td>\n",
              "    </tr>\n",
              "    <tr>\n",
              "      <th>9</th>\n",
              "      <td>Imouto Paradise!</td>\n",
              "      <td>Hentai</td>\n",
              "      <td>8.081212</td>\n",
              "    </tr>\n",
              "  </tbody>\n",
              "</table>\n",
              "</div>\n",
              "    <div class=\"colab-df-buttons\">\n",
              "\n",
              "  <div class=\"colab-df-container\">\n",
              "    <button class=\"colab-df-convert\" onclick=\"convertToInteractive('df-e6f03afc-ff9b-4504-9141-c500ac293af9')\"\n",
              "            title=\"Convert this dataframe to an interactive table.\"\n",
              "            style=\"display:none;\">\n",
              "\n",
              "  <svg xmlns=\"http://www.w3.org/2000/svg\" height=\"24px\" viewBox=\"0 -960 960 960\">\n",
              "    <path d=\"M120-120v-720h720v720H120Zm60-500h600v-160H180v160Zm220 220h160v-160H400v160Zm0 220h160v-160H400v160ZM180-400h160v-160H180v160Zm440 0h160v-160H620v160ZM180-180h160v-160H180v160Zm440 0h160v-160H620v160Z\"/>\n",
              "  </svg>\n",
              "    </button>\n",
              "\n",
              "  <style>\n",
              "    .colab-df-container {\n",
              "      display:flex;\n",
              "      gap: 12px;\n",
              "    }\n",
              "\n",
              "    .colab-df-convert {\n",
              "      background-color: #E8F0FE;\n",
              "      border: none;\n",
              "      border-radius: 50%;\n",
              "      cursor: pointer;\n",
              "      display: none;\n",
              "      fill: #1967D2;\n",
              "      height: 32px;\n",
              "      padding: 0 0 0 0;\n",
              "      width: 32px;\n",
              "    }\n",
              "\n",
              "    .colab-df-convert:hover {\n",
              "      background-color: #E2EBFA;\n",
              "      box-shadow: 0px 1px 2px rgba(60, 64, 67, 0.3), 0px 1px 3px 1px rgba(60, 64, 67, 0.15);\n",
              "      fill: #174EA6;\n",
              "    }\n",
              "\n",
              "    .colab-df-buttons div {\n",
              "      margin-bottom: 4px;\n",
              "    }\n",
              "\n",
              "    [theme=dark] .colab-df-convert {\n",
              "      background-color: #3B4455;\n",
              "      fill: #D2E3FC;\n",
              "    }\n",
              "\n",
              "    [theme=dark] .colab-df-convert:hover {\n",
              "      background-color: #434B5C;\n",
              "      box-shadow: 0px 1px 3px 1px rgba(0, 0, 0, 0.15);\n",
              "      filter: drop-shadow(0px 1px 2px rgba(0, 0, 0, 0.3));\n",
              "      fill: #FFFFFF;\n",
              "    }\n",
              "  </style>\n",
              "\n",
              "    <script>\n",
              "      const buttonEl =\n",
              "        document.querySelector('#df-e6f03afc-ff9b-4504-9141-c500ac293af9 button.colab-df-convert');\n",
              "      buttonEl.style.display =\n",
              "        google.colab.kernel.accessAllowed ? 'block' : 'none';\n",
              "\n",
              "      async function convertToInteractive(key) {\n",
              "        const element = document.querySelector('#df-e6f03afc-ff9b-4504-9141-c500ac293af9');\n",
              "        const dataTable =\n",
              "          await google.colab.kernel.invokeFunction('convertToInteractive',\n",
              "                                                    [key], {});\n",
              "        if (!dataTable) return;\n",
              "\n",
              "        const docLinkHtml = 'Like what you see? Visit the ' +\n",
              "          '<a target=\"_blank\" href=https://colab.research.google.com/notebooks/data_table.ipynb>data table notebook</a>'\n",
              "          + ' to learn more about interactive tables.';\n",
              "        element.innerHTML = '';\n",
              "        dataTable['output_type'] = 'display_data';\n",
              "        await google.colab.output.renderOutput(dataTable, element);\n",
              "        const docLink = document.createElement('div');\n",
              "        docLink.innerHTML = docLinkHtml;\n",
              "        element.appendChild(docLink);\n",
              "      }\n",
              "    </script>\n",
              "  </div>\n",
              "\n",
              "\n",
              "    <div id=\"df-026589fb-982e-41ce-8d25-8e016ccec2fb\">\n",
              "      <button class=\"colab-df-quickchart\" onclick=\"quickchart('df-026589fb-982e-41ce-8d25-8e016ccec2fb')\"\n",
              "                title=\"Suggest charts\"\n",
              "                style=\"display:none;\">\n",
              "\n",
              "<svg xmlns=\"http://www.w3.org/2000/svg\" height=\"24px\"viewBox=\"0 0 24 24\"\n",
              "     width=\"24px\">\n",
              "    <g>\n",
              "        <path d=\"M19 3H5c-1.1 0-2 .9-2 2v14c0 1.1.9 2 2 2h14c1.1 0 2-.9 2-2V5c0-1.1-.9-2-2-2zM9 17H7v-7h2v7zm4 0h-2V7h2v10zm4 0h-2v-4h2v4z\"/>\n",
              "    </g>\n",
              "</svg>\n",
              "      </button>\n",
              "\n",
              "<style>\n",
              "  .colab-df-quickchart {\n",
              "      --bg-color: #E8F0FE;\n",
              "      --fill-color: #1967D2;\n",
              "      --hover-bg-color: #E2EBFA;\n",
              "      --hover-fill-color: #174EA6;\n",
              "      --disabled-fill-color: #AAA;\n",
              "      --disabled-bg-color: #DDD;\n",
              "  }\n",
              "\n",
              "  [theme=dark] .colab-df-quickchart {\n",
              "      --bg-color: #3B4455;\n",
              "      --fill-color: #D2E3FC;\n",
              "      --hover-bg-color: #434B5C;\n",
              "      --hover-fill-color: #FFFFFF;\n",
              "      --disabled-bg-color: #3B4455;\n",
              "      --disabled-fill-color: #666;\n",
              "  }\n",
              "\n",
              "  .colab-df-quickchart {\n",
              "    background-color: var(--bg-color);\n",
              "    border: none;\n",
              "    border-radius: 50%;\n",
              "    cursor: pointer;\n",
              "    display: none;\n",
              "    fill: var(--fill-color);\n",
              "    height: 32px;\n",
              "    padding: 0;\n",
              "    width: 32px;\n",
              "  }\n",
              "\n",
              "  .colab-df-quickchart:hover {\n",
              "    background-color: var(--hover-bg-color);\n",
              "    box-shadow: 0 1px 2px rgba(60, 64, 67, 0.3), 0 1px 3px 1px rgba(60, 64, 67, 0.15);\n",
              "    fill: var(--button-hover-fill-color);\n",
              "  }\n",
              "\n",
              "  .colab-df-quickchart-complete:disabled,\n",
              "  .colab-df-quickchart-complete:disabled:hover {\n",
              "    background-color: var(--disabled-bg-color);\n",
              "    fill: var(--disabled-fill-color);\n",
              "    box-shadow: none;\n",
              "  }\n",
              "\n",
              "  .colab-df-spinner {\n",
              "    border: 2px solid var(--fill-color);\n",
              "    border-color: transparent;\n",
              "    border-bottom-color: var(--fill-color);\n",
              "    animation:\n",
              "      spin 1s steps(1) infinite;\n",
              "  }\n",
              "\n",
              "  @keyframes spin {\n",
              "    0% {\n",
              "      border-color: transparent;\n",
              "      border-bottom-color: var(--fill-color);\n",
              "      border-left-color: var(--fill-color);\n",
              "    }\n",
              "    20% {\n",
              "      border-color: transparent;\n",
              "      border-left-color: var(--fill-color);\n",
              "      border-top-color: var(--fill-color);\n",
              "    }\n",
              "    30% {\n",
              "      border-color: transparent;\n",
              "      border-left-color: var(--fill-color);\n",
              "      border-top-color: var(--fill-color);\n",
              "      border-right-color: var(--fill-color);\n",
              "    }\n",
              "    40% {\n",
              "      border-color: transparent;\n",
              "      border-right-color: var(--fill-color);\n",
              "      border-top-color: var(--fill-color);\n",
              "    }\n",
              "    60% {\n",
              "      border-color: transparent;\n",
              "      border-right-color: var(--fill-color);\n",
              "    }\n",
              "    80% {\n",
              "      border-color: transparent;\n",
              "      border-right-color: var(--fill-color);\n",
              "      border-bottom-color: var(--fill-color);\n",
              "    }\n",
              "    90% {\n",
              "      border-color: transparent;\n",
              "      border-bottom-color: var(--fill-color);\n",
              "    }\n",
              "  }\n",
              "</style>\n",
              "\n",
              "      <script>\n",
              "        async function quickchart(key) {\n",
              "          const quickchartButtonEl =\n",
              "            document.querySelector('#' + key + ' button');\n",
              "          quickchartButtonEl.disabled = true;  // To prevent multiple clicks.\n",
              "          quickchartButtonEl.classList.add('colab-df-spinner');\n",
              "          try {\n",
              "            const charts = await google.colab.kernel.invokeFunction(\n",
              "                'suggestCharts', [key], {});\n",
              "          } catch (error) {\n",
              "            console.error('Error during call to suggestCharts:', error);\n",
              "          }\n",
              "          quickchartButtonEl.classList.remove('colab-df-spinner');\n",
              "          quickchartButtonEl.classList.add('colab-df-quickchart-complete');\n",
              "        }\n",
              "        (() => {\n",
              "          let quickchartButtonEl =\n",
              "            document.querySelector('#df-026589fb-982e-41ce-8d25-8e016ccec2fb button');\n",
              "          quickchartButtonEl.style.display =\n",
              "            google.colab.kernel.accessAllowed ? 'block' : 'none';\n",
              "        })();\n",
              "      </script>\n",
              "    </div>\n",
              "\n",
              "    </div>\n",
              "  </div>\n"
            ],
            "application/vnd.google.colaboratory.intrinsic+json": {
              "type": "dataframe",
              "summary": "{\n  \"name\": \"get_collaborative_filtering_recommendations(user_id=5, N=10, model=svd_model)\",\n  \"rows\": 10,\n  \"fields\": [\n    {\n      \"column\": \"name\",\n      \"properties\": {\n        \"dtype\": \"string\",\n        \"num_unique_values\": 10,\n        \"samples\": [\n          \"Rose of Versailles\",\n          \"Serial Experiments Lain\",\n          \"Kyou kara Ore wa!!\"\n        ],\n        \"semantic_type\": \"\",\n        \"description\": \"\"\n      }\n    },\n    {\n      \"column\": \"genre\",\n      \"properties\": {\n        \"dtype\": \"string\",\n        \"num_unique_values\": 10,\n        \"samples\": [\n          \"Adventure, Drama, Historical, Romance, Shoujo\",\n          \"Dementia, Drama, Mystery, Psychological, Sci-Fi, Supernatural\",\n          \"Comedy, Shounen\"\n        ],\n        \"semantic_type\": \"\",\n        \"description\": \"\"\n      }\n    },\n    {\n      \"column\": \"predicted_rating\",\n      \"properties\": {\n        \"dtype\": \"number\",\n        \"std\": 0.34402586826256754,\n        \"min\": 8.08121212526041,\n        \"max\": 9.054099489767307,\n        \"num_unique_values\": 10,\n        \"samples\": [\n          8.149011963568746,\n          8.98031461152554,\n          8.242072013488361\n        ],\n        \"semantic_type\": \"\",\n        \"description\": \"\"\n      }\n    }\n  ]\n}"
            }
          },
          "metadata": {},
          "execution_count": 61
        }
      ],
      "source": [
        "# Pilih satu pengguna sebagai contoh\n",
        "get_collaborative_filtering_recommendations(user_id=5, N=10, model=svd_model)"
      ]
    },
    {
      "cell_type": "markdown",
      "id": "2daBQcnIeg4w",
      "metadata": {
        "id": "2daBQcnIeg4w"
      },
      "source": [
        "Hasil rekomendasi Collaborative Filtering di atas menunjukkan **10 anime teratas yang diprediksi paling disukai oleh user 5** berdasarkan pola rating user lain yang mirip. Anime seperti *Ginga Eiyuu Densetsu* dan *Rose of Versailles* muncul karena mereka memiliki kemiripan pola rating dengan anime yang pernah disukai user ini. Angka *predicted\\_rating* adalah estimasi skor yang diperkirakan akan diberikan oleh user 5 untuk anime tersebut. Semakin tinggi nilainya, semakin besar kemungkinan user tersebut akan menyukai anime itu. Pola genre yang muncul (Action, Drama, Military, Historical) juga mencerminkan preferensi genre yang kemungkinan besar disukai oleh user 5. Ini adalah kekuatan utama Collaborative Filtering — **tidak perlu melihat isi/genre, cukup belajar dari perilaku rating sesama user**.\n"
      ]
    },
    {
      "cell_type": "markdown",
      "id": "9DZsMilkZlK6",
      "metadata": {
        "id": "9DZsMilkZlK6"
      },
      "source": [
        "Evaluasi model dengan RMSE dan MAE"
      ]
    },
    {
      "cell_type": "code",
      "execution_count": 62,
      "id": "oQximU3Pss6D",
      "metadata": {
        "id": "oQximU3Pss6D",
        "colab": {
          "base_uri": "https://localhost:8080/"
        },
        "outputId": "4d7e1647-1490-48f2-9825-83b9d61ddab6"
      },
      "outputs": [
        {
          "output_type": "stream",
          "name": "stdout",
          "text": [
            "Evaluating RMSE, MAE of algorithm SVD on 5 split(s).\n",
            "\n",
            "                  Fold 1  Fold 2  Fold 3  Fold 4  Fold 5  Mean    Std     \n",
            "RMSE (testset)    2.1538  2.1475  2.1483  2.1464  2.1464  2.1485  0.0028  \n",
            "MAE (testset)     1.5056  1.5043  1.5034  1.5026  1.5022  1.5036  0.0012  \n",
            "Fit time          34.99   33.59   34.12   34.34   34.75   34.36   0.49    \n",
            "Test time         3.18    2.14    2.64    2.34    2.27    2.51    0.37    \n",
            "\n",
            "--- Hasil Cross-Validation SVD ---\n",
            "Rata-rata RMSE: 2.1485\n",
            "Rata-rata MAE: 1.5036\n"
          ]
        }
      ],
      "source": [
        "cv_results = cross_validate(svd_model, data, measures=['RMSE', 'MAE'], cv=5, verbose=True)\n",
        "\n",
        "print(\"\\n--- Hasil Cross-Validation SVD ---\")\n",
        "mean_rmse = cv_results['test_rmse'].mean()\n",
        "mean_mae = cv_results['test_mae'].mean()\n",
        "\n",
        "print(f\"Rata-rata RMSE: {mean_rmse:.4f}\")\n",
        "print(f\"Rata-rata MAE: {mean_mae:.4f}\")"
      ]
    },
    {
      "cell_type": "markdown",
      "id": "u3ddMJYNf1Cc",
      "metadata": {
        "id": "u3ddMJYNf1Cc"
      },
      "source": [
        "Hasil evaluasi model SVD menggunakan 5-fold cross-validation menunjukkan bahwa model memiliki rata-rata **RMSE sebesar 2.1485** dan rata-rata **MAE sebesar 1.5036**. RMSE mengukur seberapa jauh prediksi model dari rating sebenarnya dalam satuan rating skala 1-10, sehingga semakin kecil nilainya semakin baik. MAE menunjukkan rata-rata kesalahan absolut prediksi model. Nilai MAE 1.5 artinya, rata-rata kesalahan prediksi rating model berada di sekitar 1.5 poin dari rating yang sebenarnya — yang bisa dikatakan cukup baik untuk task rekomendasi berbasis preferensi user. Variasi antar-fold juga relatif stabil, menandakan model cukup konsisten.\n"
      ]
    },
    {
      "cell_type": "markdown",
      "id": "gM4u4_THhScm",
      "metadata": {
        "id": "gM4u4_THhScm"
      },
      "source": [
        "### Kesimpulan\n",
        "\n",
        "Dalam proyek ini telah dibangun dan dievaluasi dua pendekatan sistem rekomendasi anime:\n",
        "\n",
        "1. **Content-Based Filtering (CBF)**\n",
        "   Menggunakan **kemiripan genre** antar anime untuk merekomendasikan anime yang serupa.\n",
        "\n",
        "   * CBF efektif untuk menampilkan anime yang **secara konten mirip** dengan anime yang dipilih user.\n",
        "   * Namun, karena hanya berbasis genre, model cenderung merekomendasikan anime yang terlalu umum atau sekuel / spin-off dari anime yang sama.\n",
        "   * Tidak mempertimbangkan **preferensi personal user** (misalnya rating yang diberikan user).\n",
        "\n",
        "2. **Collaborative Filtering (CF) dengan SVD**\n",
        "   Menggunakan **pola rating antar user** (matrix factorization) untuk mempelajari preferensi user.\n",
        "\n",
        "   * SVD memberikan rekomendasi yang **lebih personal dan beragam**.\n",
        "   * Evaluasi model dengan 5-fold cross-validation menghasilkan **RMSE rata-rata 2.1261** dan **MAE rata-rata 1.4871**, menunjukkan bahwa model cukup akurat dalam memprediksi rating user.\n",
        "   * Rekomendasi yang dihasilkan untuk user tertentu sesuai dengan minat yang terindikasi dari riwayat rating.\n"
      ]
    }
  ],
  "metadata": {
    "colab": {
      "provenance": []
    },
    "kernelspec": {
      "display_name": "Python (.venv ML Terapan 2)",
      "language": "python",
      "name": ".venv"
    },
    "language_info": {
      "codemirror_mode": {
        "name": "ipython",
        "version": 3
      },
      "file_extension": ".py",
      "mimetype": "text/x-python",
      "name": "python",
      "nbconvert_exporter": "python",
      "pygments_lexer": "ipython3",
      "version": "3.11.9"
    }
  },
  "nbformat": 4,
  "nbformat_minor": 5
}